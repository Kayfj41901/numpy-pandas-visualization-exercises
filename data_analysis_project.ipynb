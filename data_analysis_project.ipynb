{
 "cells": [
  {
   "cell_type": "code",
   "execution_count": 1,
   "id": "198062c3",
   "metadata": {},
   "outputs": [],
   "source": [
    "import seaborn as sns \n",
    "import pandas as pd\n",
    "import numpy as np\n",
    "import matplotlib.pyplot as plt"
   ]
  },
  {
   "cell_type": "code",
   "execution_count": 2,
   "id": "4325e51d",
   "metadata": {},
   "outputs": [],
   "source": [
    "tc=pd.read_csv(\"Kayla Brock - jemison_spreadsheet_exercises - Table1_CustDetails (1).csv\")"
   ]
  },
  {
   "cell_type": "code",
   "execution_count": 3,
   "id": "2b2c0ad6",
   "metadata": {},
   "outputs": [
    {
     "data": {
      "text/html": [
       "<div>\n",
       "<style scoped>\n",
       "    .dataframe tbody tr th:only-of-type {\n",
       "        vertical-align: middle;\n",
       "    }\n",
       "\n",
       "    .dataframe tbody tr th {\n",
       "        vertical-align: top;\n",
       "    }\n",
       "\n",
       "    .dataframe thead th {\n",
       "        text-align: right;\n",
       "    }\n",
       "</style>\n",
       "<table border=\"1\" class=\"dataframe\">\n",
       "  <thead>\n",
       "    <tr style=\"text-align: right;\">\n",
       "      <th></th>\n",
       "      <th>customer_id</th>\n",
       "      <th>gender</th>\n",
       "      <th>is_senior_citizen</th>\n",
       "      <th>partner</th>\n",
       "      <th>dependents</th>\n",
       "      <th>phone_service</th>\n",
       "      <th>internet_service</th>\n",
       "      <th>contract_type</th>\n",
       "      <th>payment_type</th>\n",
       "      <th>monthly_charges</th>\n",
       "      <th>total_charges</th>\n",
       "      <th>churn</th>\n",
       "      <th>tenure</th>\n",
       "    </tr>\n",
       "  </thead>\n",
       "  <tbody>\n",
       "    <tr>\n",
       "      <th>0</th>\n",
       "      <td>0002-ORFBO</td>\n",
       "      <td>Female</td>\n",
       "      <td>0</td>\n",
       "      <td>Yes</td>\n",
       "      <td>Yes</td>\n",
       "      <td>1</td>\n",
       "      <td>1</td>\n",
       "      <td>1</td>\n",
       "      <td>Mailed check</td>\n",
       "      <td>65.60</td>\n",
       "      <td>593.30</td>\n",
       "      <td>No</td>\n",
       "      <td>9.0</td>\n",
       "    </tr>\n",
       "    <tr>\n",
       "      <th>1</th>\n",
       "      <td>0003-MKNFE</td>\n",
       "      <td>Male</td>\n",
       "      <td>0</td>\n",
       "      <td>No</td>\n",
       "      <td>No</td>\n",
       "      <td>2</td>\n",
       "      <td>1</td>\n",
       "      <td>0</td>\n",
       "      <td>Mailed check</td>\n",
       "      <td>59.90</td>\n",
       "      <td>542.40</td>\n",
       "      <td>No</td>\n",
       "      <td>9.1</td>\n",
       "    </tr>\n",
       "    <tr>\n",
       "      <th>2</th>\n",
       "      <td>0004-TLHLJ</td>\n",
       "      <td>Male</td>\n",
       "      <td>0</td>\n",
       "      <td>No</td>\n",
       "      <td>No</td>\n",
       "      <td>1</td>\n",
       "      <td>2</td>\n",
       "      <td>0</td>\n",
       "      <td>Electronic check</td>\n",
       "      <td>73.90</td>\n",
       "      <td>280.85</td>\n",
       "      <td>Yes</td>\n",
       "      <td>3.8</td>\n",
       "    </tr>\n",
       "    <tr>\n",
       "      <th>3</th>\n",
       "      <td>0011-IGKFF</td>\n",
       "      <td>Male</td>\n",
       "      <td>1</td>\n",
       "      <td>Yes</td>\n",
       "      <td>No</td>\n",
       "      <td>1</td>\n",
       "      <td>2</td>\n",
       "      <td>0</td>\n",
       "      <td>Electronic check</td>\n",
       "      <td>98.00</td>\n",
       "      <td>1237.85</td>\n",
       "      <td>Yes</td>\n",
       "      <td>12.6</td>\n",
       "    </tr>\n",
       "    <tr>\n",
       "      <th>4</th>\n",
       "      <td>0013-EXCHZ</td>\n",
       "      <td>Female</td>\n",
       "      <td>1</td>\n",
       "      <td>Yes</td>\n",
       "      <td>No</td>\n",
       "      <td>1</td>\n",
       "      <td>2</td>\n",
       "      <td>0</td>\n",
       "      <td>Mailed check</td>\n",
       "      <td>83.90</td>\n",
       "      <td>267.40</td>\n",
       "      <td>Yes</td>\n",
       "      <td>3.2</td>\n",
       "    </tr>\n",
       "    <tr>\n",
       "      <th>...</th>\n",
       "      <td>...</td>\n",
       "      <td>...</td>\n",
       "      <td>...</td>\n",
       "      <td>...</td>\n",
       "      <td>...</td>\n",
       "      <td>...</td>\n",
       "      <td>...</td>\n",
       "      <td>...</td>\n",
       "      <td>...</td>\n",
       "      <td>...</td>\n",
       "      <td>...</td>\n",
       "      <td>...</td>\n",
       "      <td>...</td>\n",
       "    </tr>\n",
       "    <tr>\n",
       "      <th>7044</th>\n",
       "      <td>9987-LUTYD</td>\n",
       "      <td>Female</td>\n",
       "      <td>0</td>\n",
       "      <td>No</td>\n",
       "      <td>No</td>\n",
       "      <td>1</td>\n",
       "      <td>1</td>\n",
       "      <td>1</td>\n",
       "      <td>Mailed check</td>\n",
       "      <td>55.15</td>\n",
       "      <td>742.90</td>\n",
       "      <td>No</td>\n",
       "      <td>13.5</td>\n",
       "    </tr>\n",
       "    <tr>\n",
       "      <th>7045</th>\n",
       "      <td>9992-RRAMN</td>\n",
       "      <td>Male</td>\n",
       "      <td>0</td>\n",
       "      <td>Yes</td>\n",
       "      <td>No</td>\n",
       "      <td>2</td>\n",
       "      <td>2</td>\n",
       "      <td>0</td>\n",
       "      <td>Electronic check</td>\n",
       "      <td>85.10</td>\n",
       "      <td>1873.70</td>\n",
       "      <td>Yes</td>\n",
       "      <td>22.0</td>\n",
       "    </tr>\n",
       "    <tr>\n",
       "      <th>7046</th>\n",
       "      <td>9992-UJOEL</td>\n",
       "      <td>Male</td>\n",
       "      <td>0</td>\n",
       "      <td>No</td>\n",
       "      <td>No</td>\n",
       "      <td>1</td>\n",
       "      <td>1</td>\n",
       "      <td>0</td>\n",
       "      <td>Mailed check</td>\n",
       "      <td>50.30</td>\n",
       "      <td>92.75</td>\n",
       "      <td>No</td>\n",
       "      <td>1.8</td>\n",
       "    </tr>\n",
       "    <tr>\n",
       "      <th>7047</th>\n",
       "      <td>9993-LHIEB</td>\n",
       "      <td>Male</td>\n",
       "      <td>0</td>\n",
       "      <td>Yes</td>\n",
       "      <td>Yes</td>\n",
       "      <td>1</td>\n",
       "      <td>1</td>\n",
       "      <td>2</td>\n",
       "      <td>Mailed check</td>\n",
       "      <td>67.85</td>\n",
       "      <td>4627.65</td>\n",
       "      <td>No</td>\n",
       "      <td>68.2</td>\n",
       "    </tr>\n",
       "    <tr>\n",
       "      <th>7048</th>\n",
       "      <td>9995-HOTOH</td>\n",
       "      <td>Male</td>\n",
       "      <td>0</td>\n",
       "      <td>Yes</td>\n",
       "      <td>Yes</td>\n",
       "      <td>0</td>\n",
       "      <td>1</td>\n",
       "      <td>2</td>\n",
       "      <td>Electronic check</td>\n",
       "      <td>59.00</td>\n",
       "      <td>3707.60</td>\n",
       "      <td>No</td>\n",
       "      <td>62.8</td>\n",
       "    </tr>\n",
       "  </tbody>\n",
       "</table>\n",
       "<p>7049 rows × 13 columns</p>\n",
       "</div>"
      ],
      "text/plain": [
       "     customer_id  gender  is_senior_citizen partner dependents  phone_service  \\\n",
       "0     0002-ORFBO  Female                  0     Yes        Yes              1   \n",
       "1     0003-MKNFE    Male                  0      No         No              2   \n",
       "2     0004-TLHLJ    Male                  0      No         No              1   \n",
       "3     0011-IGKFF    Male                  1     Yes         No              1   \n",
       "4     0013-EXCHZ  Female                  1     Yes         No              1   \n",
       "...          ...     ...                ...     ...        ...            ...   \n",
       "7044  9987-LUTYD  Female                  0      No         No              1   \n",
       "7045  9992-RRAMN    Male                  0     Yes         No              2   \n",
       "7046  9992-UJOEL    Male                  0      No         No              1   \n",
       "7047  9993-LHIEB    Male                  0     Yes        Yes              1   \n",
       "7048  9995-HOTOH    Male                  0     Yes        Yes              0   \n",
       "\n",
       "      internet_service  contract_type      payment_type  monthly_charges  \\\n",
       "0                    1              1      Mailed check            65.60   \n",
       "1                    1              0      Mailed check            59.90   \n",
       "2                    2              0  Electronic check            73.90   \n",
       "3                    2              0  Electronic check            98.00   \n",
       "4                    2              0      Mailed check            83.90   \n",
       "...                ...            ...               ...              ...   \n",
       "7044                 1              1      Mailed check            55.15   \n",
       "7045                 2              0  Electronic check            85.10   \n",
       "7046                 1              0      Mailed check            50.30   \n",
       "7047                 1              2      Mailed check            67.85   \n",
       "7048                 1              2  Electronic check            59.00   \n",
       "\n",
       "      total_charges churn  tenure  \n",
       "0            593.30    No     9.0  \n",
       "1            542.40    No     9.1  \n",
       "2            280.85   Yes     3.8  \n",
       "3           1237.85   Yes    12.6  \n",
       "4            267.40   Yes     3.2  \n",
       "...             ...   ...     ...  \n",
       "7044         742.90    No    13.5  \n",
       "7045        1873.70   Yes    22.0  \n",
       "7046          92.75    No     1.8  \n",
       "7047        4627.65    No    68.2  \n",
       "7048        3707.60    No    62.8  \n",
       "\n",
       "[7049 rows x 13 columns]"
      ]
     },
     "execution_count": 3,
     "metadata": {},
     "output_type": "execute_result"
    }
   ],
   "source": [
    "tc"
   ]
  },
  {
   "cell_type": "markdown",
   "id": "a484a2ef",
   "metadata": {},
   "source": [
    "# Goal"
   ]
  },
  {
   "cell_type": "markdown",
   "id": "718b69f6",
   "metadata": {},
   "source": [
    "### Find and make one change/recommendation that can be made to reduce churn. (i.e. find a driver of churn and make a recommendation for change.)"
   ]
  },
  {
   "cell_type": "markdown",
   "id": "a984a344",
   "metadata": {},
   "source": [
    "# Reducing Customer Churn "
   ]
  },
  {
   "cell_type": "markdown",
   "id": "a363f246",
   "metadata": {},
   "source": [
    "### Possibilities"
   ]
  },
  {
   "cell_type": "markdown",
   "id": "5974f1d1",
   "metadata": {},
   "source": [
    "Churn Vs. Tenure "
   ]
  },
  {
   "cell_type": "code",
   "execution_count": 13,
   "id": "bd567a7a",
   "metadata": {},
   "outputs": [
    {
     "data": {
      "text/plain": [
       "<AxesSubplot:xlabel='tenure'>"
      ]
     },
     "execution_count": 13,
     "metadata": {},
     "output_type": "execute_result"
    },
    {
     "data": {
      "image/png": "[encoded data removed]",
      "text/plain": [
       "<Figure size 432x288 with 1 Axes>"
      ]
     },
     "metadata": {
      "needs_background": "light"
     },
     "output_type": "display_data"
    }
   ],
   "source": [
    "pd.crosstab(tc.tenure, tc.churn, normalize=\"index\").plot.bar()"
   ]
  },
  {
   "cell_type": "markdown",
   "id": "df97f519",
   "metadata": {},
   "source": [
    "Churn Vs. Monthly Charges "
   ]
  },
  {
   "cell_type": "code",
   "execution_count": 21,
   "id": "c08391f2",
   "metadata": {},
   "outputs": [
    {
     "data": {
      "text/plain": [
       "<AxesSubplot:xlabel='monthly_charges'>"
      ]
     },
     "execution_count": 21,
     "metadata": {},
     "output_type": "execute_result"
    },
    {
     "data": {
      "image/png": "[encoded data removed]",
      "text/plain": [
       "<Figure size 432x288 with 1 Axes>"
      ]
     },
     "metadata": {
      "needs_background": "light"
     },
     "output_type": "display_data"
    }
   ],
   "source": [
    "pd.crosstab(tc.monthly_charges, tc.churn, normalize=\"index\").plot.bar()"
   ]
  },
  {
   "cell_type": "code",
   "execution_count": 44,
   "id": "2844faa3",
   "metadata": {},
   "outputs": [
    {
     "data": {
      "text/plain": [
       "70.35"
      ]
     },
     "execution_count": 44,
     "metadata": {},
     "output_type": "execute_result"
    }
   ],
   "source": [
    "tc['monthly_charges'].median()"
   ]
  },
  {
   "cell_type": "code",
   "execution_count": 45,
   "id": "59f1ab6f",
   "metadata": {},
   "outputs": [
    {
     "data": {
      "text/plain": [
       "0    20.05\n",
       "dtype: float64"
      ]
     },
     "execution_count": 45,
     "metadata": {},
     "output_type": "execute_result"
    }
   ],
   "source": [
    "tc['monthly_charges'].mode()"
   ]
  },
  {
   "cell_type": "code",
   "execution_count": 46,
   "id": "9164da75",
   "metadata": {},
   "outputs": [
    {
     "data": {
      "text/plain": [
       "18.25"
      ]
     },
     "execution_count": 46,
     "metadata": {},
     "output_type": "execute_result"
    }
   ],
   "source": [
    "tc['monthly_charges'].min()"
   ]
  },
  {
   "cell_type": "code",
   "execution_count": 47,
   "id": "06797e6b",
   "metadata": {},
   "outputs": [
    {
     "data": {
      "text/plain": [
       "118.75"
      ]
     },
     "execution_count": 47,
     "metadata": {},
     "output_type": "execute_result"
    }
   ],
   "source": [
    "tc['monthly_charges'].max()"
   ]
  },
  {
   "cell_type": "markdown",
   "id": "25c2da10",
   "metadata": {},
   "source": [
    "Churn Vs. Payment Type "
   ]
  },
  {
   "cell_type": "code",
   "execution_count": 20,
   "id": "c66df0cc",
   "metadata": {},
   "outputs": [
    {
     "data": {
      "text/plain": [
       "<AxesSubplot:xlabel='payment_type'>"
      ]
     },
     "execution_count": 20,
     "metadata": {},
     "output_type": "execute_result"
    },
    {
     "data": {
      "image/png": "[encoded data removed]",
      "text/plain": [
       "<Figure size 432x288 with 1 Axes>"
      ]
     },
     "metadata": {
      "needs_background": "light"
     },
     "output_type": "display_data"
    }
   ],
   "source": [
    "pd.crosstab(tc.payment_type, tc.churn, normalize=\"index\").plot.bar()"
   ]
  },
  {
   "cell_type": "markdown",
   "id": "1038ffb0",
   "metadata": {},
   "source": [
    "Churn Vs. Contract Type "
   ]
  },
  {
   "cell_type": "code",
   "execution_count": 22,
   "id": "3e6641d4",
   "metadata": {},
   "outputs": [
    {
     "data": {
      "text/plain": [
       "<AxesSubplot:xlabel='contract_type'>"
      ]
     },
     "execution_count": 22,
     "metadata": {},
     "output_type": "execute_result"
    },
    {
     "data": {
      "image/png": "[encoded data removed]",
      "text/plain": [
       "<Figure size 432x288 with 1 Axes>"
      ]
     },
     "metadata": {
      "needs_background": "light"
     },
     "output_type": "display_data"
    }
   ],
   "source": [
    "pd.crosstab(tc.contract_type, tc.churn, normalize=\"index\").plot.bar()"
   ]
  },
  {
   "cell_type": "markdown",
   "id": "d1417d7f",
   "metadata": {},
   "source": [
    "Churn Vs. Internet Service "
   ]
  },
  {
   "cell_type": "code",
   "execution_count": 23,
   "id": "ed44e207",
   "metadata": {},
   "outputs": [
    {
     "data": {
      "text/plain": [
       "<AxesSubplot:xlabel='internet_service'>"
      ]
     },
     "execution_count": 23,
     "metadata": {},
     "output_type": "execute_result"
    },
    {
     "data": {
      "image/png": "[encoded data removed]",
      "text/plain": [
       "<Figure size 432x288 with 1 Axes>"
      ]
     },
     "metadata": {
      "needs_background": "light"
     },
     "output_type": "display_data"
    }
   ],
   "source": [
    "pd.crosstab(tc.internet_service, tc.churn, normalize=\"index\").plot.bar()"
   ]
  },
  {
   "cell_type": "markdown",
   "id": "bc25efb8",
   "metadata": {},
   "source": [
    "Churn Vs. Phone Service "
   ]
  },
  {
   "cell_type": "code",
   "execution_count": 25,
   "id": "bfdade7d",
   "metadata": {},
   "outputs": [
    {
     "data": {
      "text/plain": [
       "<AxesSubplot:xlabel='phone_service'>"
      ]
     },
     "execution_count": 25,
     "metadata": {},
     "output_type": "execute_result"
    },
    {
     "data": {
      "image/png": "[encoded data removed]",
      "text/plain": [
       "<Figure size 432x288 with 1 Axes>"
      ]
     },
     "metadata": {
      "needs_background": "light"
     },
     "output_type": "display_data"
    }
   ],
   "source": [
    "pd.crosstab(tc.phone_service, tc.churn, normalize=\"index\").plot.bar()"
   ]
  },
  {
   "cell_type": "markdown",
   "id": "2727df65",
   "metadata": {},
   "source": [
    "Churn Vs. Dependents "
   ]
  },
  {
   "cell_type": "code",
   "execution_count": 26,
   "id": "dbb6d2ce",
   "metadata": {},
   "outputs": [
    {
     "data": {
      "text/plain": [
       "<AxesSubplot:xlabel='dependents'>"
      ]
     },
     "execution_count": 26,
     "metadata": {},
     "output_type": "execute_result"
    },
    {
     "data": {
      "image/png": "[encoded data removed]",
      "text/plain": [
       "<Figure size 432x288 with 1 Axes>"
      ]
     },
     "metadata": {
      "needs_background": "light"
     },
     "output_type": "display_data"
    }
   ],
   "source": [
    "pd.crosstab(tc.dependents, tc.churn, normalize=\"index\").plot.bar()"
   ]
  },
  {
   "cell_type": "markdown",
   "id": "9a5733db",
   "metadata": {},
   "source": [
    "Churn Vs. Partner"
   ]
  },
  {
   "cell_type": "code",
   "execution_count": 27,
   "id": "c56d2f45",
   "metadata": {},
   "outputs": [
    {
     "data": {
      "text/plain": [
       "<AxesSubplot:xlabel='partner'>"
      ]
     },
     "execution_count": 27,
     "metadata": {},
     "output_type": "execute_result"
    },
    {
     "data": {
      "image/png": "[encoded data removed]",
      "text/plain": [
       "<Figure size 432x288 with 1 Axes>"
      ]
     },
     "metadata": {
      "needs_background": "light"
     },
     "output_type": "display_data"
    }
   ],
   "source": [
    "pd.crosstab(tc.partner, tc.churn, normalize=\"index\").plot.bar()"
   ]
  },
  {
   "cell_type": "markdown",
   "id": "ea2ab3da",
   "metadata": {},
   "source": [
    "Churn Vs. Senior Citizen "
   ]
  },
  {
   "cell_type": "markdown",
   "id": "63a13745",
   "metadata": {},
   "source": [
    "### Hypothesis seniors who carry only one or two phone lines with us are leaving"
   ]
  },
  {
   "cell_type": "markdown",
   "id": "f5f94f3a",
   "metadata": {},
   "source": [
    "Seniors are churning at a rate of 41.6%"
   ]
  },
  {
   "cell_type": "code",
   "execution_count": 85,
   "id": "aa20be52",
   "metadata": {},
   "outputs": [
    {
     "data": {
      "text/html": [
       "<div>\n",
       "<style scoped>\n",
       "    .dataframe tbody tr th:only-of-type {\n",
       "        vertical-align: middle;\n",
       "    }\n",
       "\n",
       "    .dataframe tbody tr th {\n",
       "        vertical-align: top;\n",
       "    }\n",
       "\n",
       "    .dataframe thead th {\n",
       "        text-align: right;\n",
       "    }\n",
       "</style>\n",
       "<table border=\"1\" class=\"dataframe\">\n",
       "  <thead>\n",
       "    <tr style=\"text-align: right;\">\n",
       "      <th>churn</th>\n",
       "      <th>No</th>\n",
       "      <th>Yes</th>\n",
       "    </tr>\n",
       "    <tr>\n",
       "      <th>is_senior_citizen</th>\n",
       "      <th></th>\n",
       "      <th></th>\n",
       "    </tr>\n",
       "  </thead>\n",
       "  <tbody>\n",
       "    <tr>\n",
       "      <th>0</th>\n",
       "      <td>0.764009</td>\n",
       "      <td>0.235991</td>\n",
       "    </tr>\n",
       "    <tr>\n",
       "      <th>1</th>\n",
       "      <td>0.583187</td>\n",
       "      <td>0.416813</td>\n",
       "    </tr>\n",
       "  </tbody>\n",
       "</table>\n",
       "</div>"
      ],
      "text/plain": [
       "churn                    No       Yes\n",
       "is_senior_citizen                    \n",
       "0                  0.764009  0.235991\n",
       "1                  0.583187  0.416813"
      ]
     },
     "execution_count": 85,
     "metadata": {},
     "output_type": "execute_result"
    }
   ],
   "source": [
    "seniorchurn = pd.crosstab(tc.is_senior_citizen, tc.churn, normalize=\"index\")\n",
    "seniorchurn"
   ]
  },
  {
   "cell_type": "markdown",
   "id": "10d27c96",
   "metadata": {},
   "source": [
    "### While it is not possible to know, based on the data shown here, how much of this churn is related to senior deaths. We do know this:"
   ]
  },
  {
   "cell_type": "markdown",
   "id": "ccb2dcd8",
   "metadata": {},
   "source": [
    "Deaths per 100,000 population:"
   ]
  },
  {
   "cell_type": "markdown",
   "id": "fb6b4614",
   "metadata": {},
   "source": [
    " 65-74: 2,072.3"
   ]
  },
  {
   "cell_type": "markdown",
   "id": "6d1812f4",
   "metadata": {},
   "source": [
    "75-84: 4,997.0"
   ]
  },
  {
   "cell_type": "markdown",
   "id": "b71e8c6a",
   "metadata": {},
   "source": [
    "85 and over: 15,210.9"
   ]
  },
  {
   "cell_type": "markdown",
   "id": "08cc6c45",
   "metadata": {},
   "source": [
    "National Vital Statistics System – Mortality Data (2020) via CDC WONDER"
   ]
  },
  {
   "cell_type": "markdown",
   "id": "ca69d4e8",
   "metadata": {},
   "source": [
    "Life expectancy at age 65 : 19.6 years"
   ]
  },
  {
   "cell_type": "markdown",
   "id": "b161901d",
   "metadata": {},
   "source": [
    "https://www.cdc.gov/nchs/fastats/older-american-health.htm"
   ]
  },
  {
   "cell_type": "markdown",
   "id": "0c44e4de",
   "metadata": {},
   "source": [
    "The 85 and older population is projected to more than double from 6.5 million in\n",
    "2018 to 14.4 million in 2040 (a 123% increase)"
   ]
  },
  {
   "cell_type": "markdown",
   "id": "912344c2",
   "metadata": {},
   "source": [
    "https://acl.gov/sites/default/files/Aging%20and%20Disability%20in%20America/2019ProfileOlderAmericans508.pdf"
   ]
  },
  {
   "cell_type": "code",
   "execution_count": 28,
   "id": "825ed3b5",
   "metadata": {},
   "outputs": [
    {
     "data": {
      "text/plain": [
       "<AxesSubplot:xlabel='is_senior_citizen'>"
      ]
     },
     "execution_count": 28,
     "metadata": {},
     "output_type": "execute_result"
    },
    {
     "data": {
      "image/png": "[encoded data removed]",
      "text/plain": [
       "<Figure size 432x288 with 1 Axes>"
      ]
     },
     "metadata": {
      "needs_background": "light"
     },
     "output_type": "display_data"
    }
   ],
   "source": [
    "pd.crosstab(tc.is_senior_citizen, tc.churn, normalize=\"index\").plot.bar()"
   ]
  },
  {
   "cell_type": "markdown",
   "id": "cbcc957d",
   "metadata": {},
   "source": [
    "### 58% of our senior citizen customers have two lines of phone service with us"
   ]
  },
  {
   "cell_type": "code",
   "execution_count": 71,
   "id": "06ffc30c",
   "metadata": {},
   "outputs": [
    {
     "data": {
      "text/html": [
       "<div>\n",
       "<style scoped>\n",
       "    .dataframe tbody tr th:only-of-type {\n",
       "        vertical-align: middle;\n",
       "    }\n",
       "\n",
       "    .dataframe tbody tr th {\n",
       "        vertical-align: top;\n",
       "    }\n",
       "\n",
       "    .dataframe thead th {\n",
       "        text-align: right;\n",
       "    }\n",
       "</style>\n",
       "<table border=\"1\" class=\"dataframe\">\n",
       "  <thead>\n",
       "    <tr style=\"text-align: right;\">\n",
       "      <th>phone_service</th>\n",
       "      <th>0</th>\n",
       "      <th>1</th>\n",
       "      <th>2</th>\n",
       "    </tr>\n",
       "    <tr>\n",
       "      <th>is_senior_citizen</th>\n",
       "      <th></th>\n",
       "      <th></th>\n",
       "      <th></th>\n",
       "    </tr>\n",
       "  </thead>\n",
       "  <tbody>\n",
       "    <tr>\n",
       "      <th>0</th>\n",
       "      <td>0.098019</td>\n",
       "      <td>0.511596</td>\n",
       "      <td>0.390384</td>\n",
       "    </tr>\n",
       "    <tr>\n",
       "      <th>1</th>\n",
       "      <td>0.091068</td>\n",
       "      <td>0.326620</td>\n",
       "      <td>0.582312</td>\n",
       "    </tr>\n",
       "  </tbody>\n",
       "</table>\n",
       "</div>"
      ],
      "text/plain": [
       "phone_service             0         1         2\n",
       "is_senior_citizen                              \n",
       "0                  0.098019  0.511596  0.390384\n",
       "1                  0.091068  0.326620  0.582312"
      ]
     },
     "execution_count": 71,
     "metadata": {},
     "output_type": "execute_result"
    }
   ],
   "source": [
    "pd.crosstab(tc.is_senior_citizen, tc.phone_service, normalize=\"index\")\n"
   ]
  },
  {
   "cell_type": "code",
   "execution_count": 69,
   "id": "fe9220f5",
   "metadata": {},
   "outputs": [
    {
     "data": {
      "text/plain": [
       "<AxesSubplot:xlabel='is_senior_citizen'>"
      ]
     },
     "execution_count": 69,
     "metadata": {},
     "output_type": "execute_result"
    },
    {
     "data": {
      "image/png": "[encoded data removed]",
      "text/plain": [
       "<Figure size 432x288 with 1 Axes>"
      ]
     },
     "metadata": {
      "needs_background": "light"
     },
     "output_type": "display_data"
    }
   ],
   "source": [
    "pd.crosstab(tc.is_senior_citizen, tc.phone_service, normalize=\"index\").plot.bar()"
   ]
  },
  {
   "cell_type": "markdown",
   "id": "f068f21e",
   "metadata": {},
   "source": [
    "### Only 4% of our senior citizen customers do not have at least one line of internet service with us"
   ]
  },
  {
   "cell_type": "code",
   "execution_count": 72,
   "id": "43e60362",
   "metadata": {},
   "outputs": [
    {
     "data": {
      "text/html": [
       "<div>\n",
       "<style scoped>\n",
       "    .dataframe tbody tr th:only-of-type {\n",
       "        vertical-align: middle;\n",
       "    }\n",
       "\n",
       "    .dataframe tbody tr th {\n",
       "        vertical-align: top;\n",
       "    }\n",
       "\n",
       "    .dataframe thead th {\n",
       "        text-align: right;\n",
       "    }\n",
       "</style>\n",
       "<table border=\"1\" class=\"dataframe\">\n",
       "  <thead>\n",
       "    <tr style=\"text-align: right;\">\n",
       "      <th>internet_service</th>\n",
       "      <th>0</th>\n",
       "      <th>1</th>\n",
       "      <th>2</th>\n",
       "    </tr>\n",
       "    <tr>\n",
       "      <th>is_senior_citizen</th>\n",
       "      <th></th>\n",
       "      <th></th>\n",
       "      <th></th>\n",
       "    </tr>\n",
       "  </thead>\n",
       "  <tbody>\n",
       "    <tr>\n",
       "      <th>0</th>\n",
       "      <td>0.250042</td>\n",
       "      <td>0.366176</td>\n",
       "      <td>0.383782</td>\n",
       "    </tr>\n",
       "    <tr>\n",
       "      <th>1</th>\n",
       "      <td>0.045534</td>\n",
       "      <td>0.226795</td>\n",
       "      <td>0.727671</td>\n",
       "    </tr>\n",
       "  </tbody>\n",
       "</table>\n",
       "</div>"
      ],
      "text/plain": [
       "internet_service          0         1         2\n",
       "is_senior_citizen                              \n",
       "0                  0.250042  0.366176  0.383782\n",
       "1                  0.045534  0.226795  0.727671"
      ]
     },
     "execution_count": 72,
     "metadata": {},
     "output_type": "execute_result"
    }
   ],
   "source": [
    "pd.crosstab(tc.is_senior_citizen, tc.internet_service, normalize=\"index\")"
   ]
  },
  {
   "cell_type": "markdown",
   "id": "56d59120",
   "metadata": {},
   "source": [
    "### Over 70% of our senior citizen customers have no contract with us"
   ]
  },
  {
   "cell_type": "code",
   "execution_count": 74,
   "id": "262dde37",
   "metadata": {},
   "outputs": [
    {
     "data": {
      "text/html": [
       "<div>\n",
       "<style scoped>\n",
       "    .dataframe tbody tr th:only-of-type {\n",
       "        vertical-align: middle;\n",
       "    }\n",
       "\n",
       "    .dataframe tbody tr th {\n",
       "        vertical-align: top;\n",
       "    }\n",
       "\n",
       "    .dataframe thead th {\n",
       "        text-align: right;\n",
       "    }\n",
       "</style>\n",
       "<table border=\"1\" class=\"dataframe\">\n",
       "  <thead>\n",
       "    <tr style=\"text-align: right;\">\n",
       "      <th>contract_type</th>\n",
       "      <th>0</th>\n",
       "      <th>1</th>\n",
       "      <th>2</th>\n",
       "    </tr>\n",
       "    <tr>\n",
       "      <th>is_senior_citizen</th>\n",
       "      <th></th>\n",
       "      <th></th>\n",
       "      <th></th>\n",
       "    </tr>\n",
       "  </thead>\n",
       "  <tbody>\n",
       "    <tr>\n",
       "      <th>0</th>\n",
       "      <td>0.519553</td>\n",
       "      <td>0.217708</td>\n",
       "      <td>0.262739</td>\n",
       "    </tr>\n",
       "    <tr>\n",
       "      <th>1</th>\n",
       "      <td>0.706655</td>\n",
       "      <td>0.166375</td>\n",
       "      <td>0.126970</td>\n",
       "    </tr>\n",
       "  </tbody>\n",
       "</table>\n",
       "</div>"
      ],
      "text/plain": [
       "contract_type             0         1         2\n",
       "is_senior_citizen                              \n",
       "0                  0.519553  0.217708  0.262739\n",
       "1                  0.706655  0.166375  0.126970"
      ]
     },
     "execution_count": 74,
     "metadata": {},
     "output_type": "execute_result"
    }
   ],
   "source": [
    "pd.crosstab(tc.is_senior_citizen, tc.contract_type, normalize=\"index\")"
   ]
  },
  {
   "cell_type": "markdown",
   "id": "7ae0e36c",
   "metadata": {},
   "source": [
    "### We also know from our total population of customers, that customers without contracts are much more likely to churn than those with one or two year contracts"
   ]
  },
  {
   "cell_type": "code",
   "execution_count": 86,
   "id": "523ac0c0",
   "metadata": {},
   "outputs": [
    {
     "data": {
      "text/html": [
       "<div>\n",
       "<style scoped>\n",
       "    .dataframe tbody tr th:only-of-type {\n",
       "        vertical-align: middle;\n",
       "    }\n",
       "\n",
       "    .dataframe tbody tr th {\n",
       "        vertical-align: top;\n",
       "    }\n",
       "\n",
       "    .dataframe thead th {\n",
       "        text-align: right;\n",
       "    }\n",
       "</style>\n",
       "<table border=\"1\" class=\"dataframe\">\n",
       "  <thead>\n",
       "    <tr style=\"text-align: right;\">\n",
       "      <th>churn</th>\n",
       "      <th>No</th>\n",
       "      <th>Yes</th>\n",
       "    </tr>\n",
       "    <tr>\n",
       "      <th>contract_type</th>\n",
       "      <th></th>\n",
       "      <th></th>\n",
       "    </tr>\n",
       "  </thead>\n",
       "  <tbody>\n",
       "    <tr>\n",
       "      <th>0</th>\n",
       "      <td>0.572755</td>\n",
       "      <td>0.427245</td>\n",
       "    </tr>\n",
       "    <tr>\n",
       "      <th>1</th>\n",
       "      <td>0.887534</td>\n",
       "      <td>0.112466</td>\n",
       "    </tr>\n",
       "    <tr>\n",
       "      <th>2</th>\n",
       "      <td>0.971715</td>\n",
       "      <td>0.028285</td>\n",
       "    </tr>\n",
       "  </tbody>\n",
       "</table>\n",
       "</div>"
      ],
      "text/plain": [
       "churn                No       Yes\n",
       "contract_type                    \n",
       "0              0.572755  0.427245\n",
       "1              0.887534  0.112466\n",
       "2              0.971715  0.028285"
      ]
     },
     "execution_count": 86,
     "metadata": {},
     "output_type": "execute_result"
    }
   ],
   "source": [
    "pd.crosstab(tc.contract_type, tc.churn, normalize=\"index\")"
   ]
  },
  {
   "cell_type": "markdown",
   "id": "9cac7f26",
   "metadata": {},
   "source": [
    "### We also know customers who AUTOPAY are much more likely to stay with us"
   ]
  },
  {
   "cell_type": "code",
   "execution_count": 87,
   "id": "4302dd47",
   "metadata": {},
   "outputs": [
    {
     "data": {
      "text/html": [
       "<div>\n",
       "<style scoped>\n",
       "    .dataframe tbody tr th:only-of-type {\n",
       "        vertical-align: middle;\n",
       "    }\n",
       "\n",
       "    .dataframe tbody tr th {\n",
       "        vertical-align: top;\n",
       "    }\n",
       "\n",
       "    .dataframe thead th {\n",
       "        text-align: right;\n",
       "    }\n",
       "</style>\n",
       "<table border=\"1\" class=\"dataframe\">\n",
       "  <thead>\n",
       "    <tr style=\"text-align: right;\">\n",
       "      <th>churn</th>\n",
       "      <th>No</th>\n",
       "      <th>Yes</th>\n",
       "    </tr>\n",
       "    <tr>\n",
       "      <th>payment_type</th>\n",
       "      <th></th>\n",
       "      <th></th>\n",
       "    </tr>\n",
       "  </thead>\n",
       "  <tbody>\n",
       "    <tr>\n",
       "      <th>Bank transfer (automatic)</th>\n",
       "      <td>0.832687</td>\n",
       "      <td>0.167313</td>\n",
       "    </tr>\n",
       "    <tr>\n",
       "      <th>Credit card (automatic)</th>\n",
       "      <td>0.847769</td>\n",
       "      <td>0.152231</td>\n",
       "    </tr>\n",
       "    <tr>\n",
       "      <th>Electronic check</th>\n",
       "      <td>0.547146</td>\n",
       "      <td>0.452854</td>\n",
       "    </tr>\n",
       "    <tr>\n",
       "      <th>Mailed check</th>\n",
       "      <td>0.808933</td>\n",
       "      <td>0.191067</td>\n",
       "    </tr>\n",
       "  </tbody>\n",
       "</table>\n",
       "</div>"
      ],
      "text/plain": [
       "churn                            No       Yes\n",
       "payment_type                                 \n",
       "Bank transfer (automatic)  0.832687  0.167313\n",
       "Credit card (automatic)    0.847769  0.152231\n",
       "Electronic check           0.547146  0.452854\n",
       "Mailed check               0.808933  0.191067"
      ]
     },
     "execution_count": 87,
     "metadata": {},
     "output_type": "execute_result"
    }
   ],
   "source": [
    "pd.crosstab(tc.payment_type, tc.churn, normalize=\"index\")"
   ]
  },
  {
   "cell_type": "code",
   "execution_count": 62,
   "id": "65b28064",
   "metadata": {},
   "outputs": [
    {
     "data": {
      "text/plain": [
       "1142"
      ]
     },
     "execution_count": 62,
     "metadata": {},
     "output_type": "execute_result"
    }
   ],
   "source": [
    "tc.is_senior_citizen.sum()\n"
   ]
  },
  {
   "cell_type": "markdown",
   "id": "9efe536f",
   "metadata": {},
   "source": [
    "Churn Vs. Gender "
   ]
  },
  {
   "cell_type": "code",
   "execution_count": 29,
   "id": "a9cf518d",
   "metadata": {},
   "outputs": [
    {
     "data": {
      "text/plain": [
       "<AxesSubplot:xlabel='gender'>"
      ]
     },
     "execution_count": 29,
     "metadata": {},
     "output_type": "execute_result"
    },
    {
     "data": {
      "image/png": "[encoded data removed]",
      "text/plain": [
       "<Figure size 432x288 with 1 Axes>"
      ]
     },
     "metadata": {
      "needs_background": "light"
     },
     "output_type": "display_data"
    }
   ],
   "source": [
    "pd.crosstab(tc.gender, tc.churn, normalize=\"index\").plot.bar()"
   ]
  },
  {
   "cell_type": "markdown",
   "id": "1ec86c08",
   "metadata": {},
   "source": [
    "# START HERE"
   ]
  },
  {
   "cell_type": "markdown",
   "id": "7625ef33",
   "metadata": {},
   "source": [
    "Like many of you, as I drive to work each day, I think about the TC business model. Who are we serving? Are we doing a good job? Yes, we want to make money, but also, how can we dig deep to create win-win situations? \n",
    "The data we are going to look at today is focused in on every business' model's objective: profitability. Like every businesses we continuously challenge ourselves to acquire new customers while retaining our customer base. \n",
    "Like myself, I know many people in this room have stared at these numbers. The angle I am going to pitch today is zeroeing in one, I would argue very special, subset of our customer base: \n",
    "senior citizens. "
   ]
  },
  {
   "cell_type": "markdown",
   "id": "87d5a6ce",
   "metadata": {},
   "source": [
    "What do we know about senior citizens? "
   ]
  },
  {
   "cell_type": "markdown",
   "id": "a7a0f1c5",
   "metadata": {},
   "source": [
    "In the U.S. the population age 65 and older numbered 54.1 million in 2019\n",
    "(the most recent year for which data are available). They represented 16% of\n",
    "the population, more than one in every seven Americans. The number of older\n",
    "Americans has increased by 14.4 million (or 36%) since 2009, compared to an\n",
    "increase of 3% for the under-65 population."
   ]
  },
  {
   "cell_type": "markdown",
   "id": "7509a22e",
   "metadata": {},
   "source": [
    "https://acl.gov/sites/default/files/Aging%20and%20Disability%20in%20America/2020ProfileOlderAmericans.Final_.pdf"
   ]
  },
  {
   "cell_type": "markdown",
   "id": "6fd5eb64",
   "metadata": {},
   "source": [
    "Smartphone ownership among seniors varies substantially by age: 59% of 65- to 69-year-olds own smartphones, but that share falls to 49% among 70- to 74-year-olds. Smartphone adoption drops off considerably among adults in their mid-70s and beyond. Some 31% of 75- to 79-year-olds say they own smartphones, while only 17% of those ages 80 and older are smartphone owners."
   ]
  },
  {
   "cell_type": "markdown",
   "id": "c11df4c7",
   "metadata": {},
   "source": [
    "https://www.pewresearch.org/internet/2017/05/17/technology-use-among-seniors/#:~:text=Smartphone%20ownership%20among%20seniors%20varies,their%20mid%2D70s%20and%20beyond."
   ]
  },
  {
   "cell_type": "markdown",
   "id": "703d1e3b",
   "metadata": {},
   "source": [
    "Just 14% of adults over 65 have dumped their landlines, though"
   ]
  },
  {
   "cell_type": "markdown",
   "id": "cd9d31a8",
   "metadata": {},
   "source": [
    "https://time.com/2966515/landline-phones-cell-phones/"
   ]
  },
  {
   "cell_type": "markdown",
   "id": "a066e1d6",
   "metadata": {},
   "source": [
    "### We also know, with our current offerings, it is a demographic we are not attracting. "
   ]
  },
  {
   "cell_type": "code",
   "execution_count": 54,
   "id": "229b67dc",
   "metadata": {},
   "outputs": [
    {
     "data": {
      "text/plain": [
       "Text(0.5, 1.0, 'Senior Citizen Customers')"
      ]
     },
     "execution_count": 54,
     "metadata": {},
     "output_type": "execute_result"
    },
    {
     "data": {
      "image/png": "[encoded data removed]",
      "text/plain": [
       "<Figure size 432x288 with 1 Axes>"
      ]
     },
     "metadata": {
      "needs_background": "light"
     },
     "output_type": "display_data"
    }
   ],
   "source": [
    "sns.histplot(tc.is_senior_citizen)\n",
    "plt.title(\"Senior Citizen Customers\")"
   ]
  },
  {
   "cell_type": "markdown",
   "id": "6203ed7b",
   "metadata": {},
   "source": [
    "# I need to fix this chart somehow or add an annotation"
   ]
  },
  {
   "cell_type": "markdown",
   "id": "60e07f92",
   "metadata": {},
   "source": [
    "### We also know, of the seniors we do have, many are leaving. . . "
   ]
  },
  {
   "cell_type": "code",
   "execution_count": 52,
   "id": "02f3cd14",
   "metadata": {},
   "outputs": [
    {
     "data": {
      "text/plain": [
       "<AxesSubplot:xlabel='is_senior_citizen'>"
      ]
     },
     "execution_count": 52,
     "metadata": {},
     "output_type": "execute_result"
    },
    {
     "data": {
      "image/png": "[encoded data removed]",
      "text/plain": [
       "<Figure size 432x288 with 1 Axes>"
      ]
     },
     "metadata": {
      "needs_background": "light"
     },
     "output_type": "display_data"
    }
   ],
   "source": [
    "pd.crosstab(tc.is_senior_citizen, tc.churn, normalize=\"index\").plot.bar()"
   ]
  },
  {
   "cell_type": "code",
   "execution_count": 68,
   "id": "e4e1be84",
   "metadata": {},
   "outputs": [
    {
     "data": {
      "text/plain": [
       "1142"
      ]
     },
     "execution_count": 68,
     "metadata": {},
     "output_type": "execute_result"
    }
   ],
   "source": [
    "tc.is_senior_citizen.sum()"
   ]
  },
  {
   "cell_type": "markdown",
   "id": "9825749d",
   "metadata": {},
   "source": [
    "Step 1: Attracting them "
   ]
  },
  {
   "cell_type": "markdown",
   "id": "0745dd44",
   "metadata": {},
   "source": [
    "We already have one of the most reliable networks in the country. Let's talk about how we can use this, to keep our customers while (hopefully) attracting new customers "
   ]
  },
  {
   "cell_type": "markdown",
   "id": "c959e580",
   "metadata": {},
   "source": [
    "### Senior Friendly Phones "
   ]
  },
  {
   "cell_type": "markdown",
   "id": "88c119d6",
   "metadata": {},
   "source": [
    "We already have an excellent product line of smart phones for our tech savvy seniors. I would also like to propose adding more senior-friendly phone options. We should offer rock bottom pricing for senior citizen customers who are willing to sign a 2 year contract with us. More than likely, the high tech seniors are also the younger seniors. If we can retain these customers, we can expect they will be with us for another 19 years. "
   ]
  },
  {
   "cell_type": "markdown",
   "id": "ee22bbf3",
   "metadata": {},
   "source": [
    "To add an additional incentive we will offer a 5 dollar per line discount monthly for senior citizen customers who enroll in autopay. "
   ]
  },
  {
   "cell_type": "code",
   "execution_count": null,
   "id": "d6214e40",
   "metadata": {},
   "outputs": [],
   "source": []
  }
 ],
 "metadata": {
  "kernelspec": {
   "display_name": "Python 3 (ipykernel)",
   "language": "python",
   "name": "python3"
  },
  "language_info": {
   "codemirror_mode": {
    "name": "ipython",
    "version": 3
   },
   "file_extension": ".py",
   "mimetype": "text/x-python",
   "name": "python",
   "nbconvert_exporter": "python",
   "pygments_lexer": "ipython3",
   "version": "3.9.7"
  }
 },
 "nbformat": 4,
 "nbformat_minor": 5
}
