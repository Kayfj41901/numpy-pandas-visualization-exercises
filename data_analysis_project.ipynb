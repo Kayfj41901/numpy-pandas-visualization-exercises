{
 "cells": [
  {
   "cell_type": "code",
   "execution_count": 2,
   "id": "198062c3",
   "metadata": {},
   "outputs": [],
   "source": [
    "import seaborn as sns \n",
    "import pandas as pd\n",
    "import numpy as np\n",
    "import matplotlib.pyplot as plt"
   ]
  },
  {
   "cell_type": "code",
   "execution_count": 3,
   "id": "4325e51d",
   "metadata": {},
   "outputs": [],
   "source": [
    "tc=pd.read_csv(\"Kayla Brock - jemison_spreadsheet_exercises - Table1_CustDetails (1).csv\")"
   ]
  },
  {
   "cell_type": "code",
   "execution_count": 4,
   "id": "2b2c0ad6",
   "metadata": {},
   "outputs": [
    {
     "data": {
      "text/html": [
       "<div>\n",
       "<style scoped>\n",
       "    .dataframe tbody tr th:only-of-type {\n",
       "        vertical-align: middle;\n",
       "    }\n",
       "\n",
       "    .dataframe tbody tr th {\n",
       "        vertical-align: top;\n",
       "    }\n",
       "\n",
       "    .dataframe thead th {\n",
       "        text-align: right;\n",
       "    }\n",
       "</style>\n",
       "<table border=\"1\" class=\"dataframe\">\n",
       "  <thead>\n",
       "    <tr style=\"text-align: right;\">\n",
       "      <th></th>\n",
       "      <th>customer_id</th>\n",
       "      <th>gender</th>\n",
       "      <th>is_senior_citizen</th>\n",
       "      <th>partner</th>\n",
       "      <th>dependents</th>\n",
       "      <th>phone_service</th>\n",
       "      <th>internet_service</th>\n",
       "      <th>contract_type</th>\n",
       "      <th>payment_type</th>\n",
       "      <th>monthly_charges</th>\n",
       "      <th>total_charges</th>\n",
       "      <th>churn</th>\n",
       "      <th>tenure</th>\n",
       "    </tr>\n",
       "  </thead>\n",
       "  <tbody>\n",
       "    <tr>\n",
       "      <th>0</th>\n",
       "      <td>0002-ORFBO</td>\n",
       "      <td>Female</td>\n",
       "      <td>0</td>\n",
       "      <td>Yes</td>\n",
       "      <td>Yes</td>\n",
       "      <td>1</td>\n",
       "      <td>1</td>\n",
       "      <td>1</td>\n",
       "      <td>Mailed check</td>\n",
       "      <td>65.60</td>\n",
       "      <td>593.30</td>\n",
       "      <td>No</td>\n",
       "      <td>9.0</td>\n",
       "    </tr>\n",
       "    <tr>\n",
       "      <th>1</th>\n",
       "      <td>0003-MKNFE</td>\n",
       "      <td>Male</td>\n",
       "      <td>0</td>\n",
       "      <td>No</td>\n",
       "      <td>No</td>\n",
       "      <td>2</td>\n",
       "      <td>1</td>\n",
       "      <td>0</td>\n",
       "      <td>Mailed check</td>\n",
       "      <td>59.90</td>\n",
       "      <td>542.40</td>\n",
       "      <td>No</td>\n",
       "      <td>9.1</td>\n",
       "    </tr>\n",
       "    <tr>\n",
       "      <th>2</th>\n",
       "      <td>0004-TLHLJ</td>\n",
       "      <td>Male</td>\n",
       "      <td>0</td>\n",
       "      <td>No</td>\n",
       "      <td>No</td>\n",
       "      <td>1</td>\n",
       "      <td>2</td>\n",
       "      <td>0</td>\n",
       "      <td>Electronic check</td>\n",
       "      <td>73.90</td>\n",
       "      <td>280.85</td>\n",
       "      <td>Yes</td>\n",
       "      <td>3.8</td>\n",
       "    </tr>\n",
       "    <tr>\n",
       "      <th>3</th>\n",
       "      <td>0011-IGKFF</td>\n",
       "      <td>Male</td>\n",
       "      <td>1</td>\n",
       "      <td>Yes</td>\n",
       "      <td>No</td>\n",
       "      <td>1</td>\n",
       "      <td>2</td>\n",
       "      <td>0</td>\n",
       "      <td>Electronic check</td>\n",
       "      <td>98.00</td>\n",
       "      <td>1237.85</td>\n",
       "      <td>Yes</td>\n",
       "      <td>12.6</td>\n",
       "    </tr>\n",
       "    <tr>\n",
       "      <th>4</th>\n",
       "      <td>0013-EXCHZ</td>\n",
       "      <td>Female</td>\n",
       "      <td>1</td>\n",
       "      <td>Yes</td>\n",
       "      <td>No</td>\n",
       "      <td>1</td>\n",
       "      <td>2</td>\n",
       "      <td>0</td>\n",
       "      <td>Mailed check</td>\n",
       "      <td>83.90</td>\n",
       "      <td>267.40</td>\n",
       "      <td>Yes</td>\n",
       "      <td>3.2</td>\n",
       "    </tr>\n",
       "    <tr>\n",
       "      <th>...</th>\n",
       "      <td>...</td>\n",
       "      <td>...</td>\n",
       "      <td>...</td>\n",
       "      <td>...</td>\n",
       "      <td>...</td>\n",
       "      <td>...</td>\n",
       "      <td>...</td>\n",
       "      <td>...</td>\n",
       "      <td>...</td>\n",
       "      <td>...</td>\n",
       "      <td>...</td>\n",
       "      <td>...</td>\n",
       "      <td>...</td>\n",
       "    </tr>\n",
       "    <tr>\n",
       "      <th>7044</th>\n",
       "      <td>9987-LUTYD</td>\n",
       "      <td>Female</td>\n",
       "      <td>0</td>\n",
       "      <td>No</td>\n",
       "      <td>No</td>\n",
       "      <td>1</td>\n",
       "      <td>1</td>\n",
       "      <td>1</td>\n",
       "      <td>Mailed check</td>\n",
       "      <td>55.15</td>\n",
       "      <td>742.90</td>\n",
       "      <td>No</td>\n",
       "      <td>13.5</td>\n",
       "    </tr>\n",
       "    <tr>\n",
       "      <th>7045</th>\n",
       "      <td>9992-RRAMN</td>\n",
       "      <td>Male</td>\n",
       "      <td>0</td>\n",
       "      <td>Yes</td>\n",
       "      <td>No</td>\n",
       "      <td>2</td>\n",
       "      <td>2</td>\n",
       "      <td>0</td>\n",
       "      <td>Electronic check</td>\n",
       "      <td>85.10</td>\n",
       "      <td>1873.70</td>\n",
       "      <td>Yes</td>\n",
       "      <td>22.0</td>\n",
       "    </tr>\n",
       "    <tr>\n",
       "      <th>7046</th>\n",
       "      <td>9992-UJOEL</td>\n",
       "      <td>Male</td>\n",
       "      <td>0</td>\n",
       "      <td>No</td>\n",
       "      <td>No</td>\n",
       "      <td>1</td>\n",
       "      <td>1</td>\n",
       "      <td>0</td>\n",
       "      <td>Mailed check</td>\n",
       "      <td>50.30</td>\n",
       "      <td>92.75</td>\n",
       "      <td>No</td>\n",
       "      <td>1.8</td>\n",
       "    </tr>\n",
       "    <tr>\n",
       "      <th>7047</th>\n",
       "      <td>9993-LHIEB</td>\n",
       "      <td>Male</td>\n",
       "      <td>0</td>\n",
       "      <td>Yes</td>\n",
       "      <td>Yes</td>\n",
       "      <td>1</td>\n",
       "      <td>1</td>\n",
       "      <td>2</td>\n",
       "      <td>Mailed check</td>\n",
       "      <td>67.85</td>\n",
       "      <td>4627.65</td>\n",
       "      <td>No</td>\n",
       "      <td>68.2</td>\n",
       "    </tr>\n",
       "    <tr>\n",
       "      <th>7048</th>\n",
       "      <td>9995-HOTOH</td>\n",
       "      <td>Male</td>\n",
       "      <td>0</td>\n",
       "      <td>Yes</td>\n",
       "      <td>Yes</td>\n",
       "      <td>0</td>\n",
       "      <td>1</td>\n",
       "      <td>2</td>\n",
       "      <td>Electronic check</td>\n",
       "      <td>59.00</td>\n",
       "      <td>3707.60</td>\n",
       "      <td>No</td>\n",
       "      <td>62.8</td>\n",
       "    </tr>\n",
       "  </tbody>\n",
       "</table>\n",
       "<p>7049 rows × 13 columns</p>\n",
       "</div>"
      ],
      "text/plain": [
       "     customer_id  gender  is_senior_citizen partner dependents  phone_service  \\\n",
       "0     0002-ORFBO  Female                  0     Yes        Yes              1   \n",
       "1     0003-MKNFE    Male                  0      No         No              2   \n",
       "2     0004-TLHLJ    Male                  0      No         No              1   \n",
       "3     0011-IGKFF    Male                  1     Yes         No              1   \n",
       "4     0013-EXCHZ  Female                  1     Yes         No              1   \n",
       "...          ...     ...                ...     ...        ...            ...   \n",
       "7044  9987-LUTYD  Female                  0      No         No              1   \n",
       "7045  9992-RRAMN    Male                  0     Yes         No              2   \n",
       "7046  9992-UJOEL    Male                  0      No         No              1   \n",
       "7047  9993-LHIEB    Male                  0     Yes        Yes              1   \n",
       "7048  9995-HOTOH    Male                  0     Yes        Yes              0   \n",
       "\n",
       "      internet_service  contract_type      payment_type  monthly_charges  \\\n",
       "0                    1              1      Mailed check            65.60   \n",
       "1                    1              0      Mailed check            59.90   \n",
       "2                    2              0  Electronic check            73.90   \n",
       "3                    2              0  Electronic check            98.00   \n",
       "4                    2              0      Mailed check            83.90   \n",
       "...                ...            ...               ...              ...   \n",
       "7044                 1              1      Mailed check            55.15   \n",
       "7045                 2              0  Electronic check            85.10   \n",
       "7046                 1              0      Mailed check            50.30   \n",
       "7047                 1              2      Mailed check            67.85   \n",
       "7048                 1              2  Electronic check            59.00   \n",
       "\n",
       "      total_charges churn  tenure  \n",
       "0            593.30    No     9.0  \n",
       "1            542.40    No     9.1  \n",
       "2            280.85   Yes     3.8  \n",
       "3           1237.85   Yes    12.6  \n",
       "4            267.40   Yes     3.2  \n",
       "...             ...   ...     ...  \n",
       "7044         742.90    No    13.5  \n",
       "7045        1873.70   Yes    22.0  \n",
       "7046          92.75    No     1.8  \n",
       "7047        4627.65    No    68.2  \n",
       "7048        3707.60    No    62.8  \n",
       "\n",
       "[7049 rows x 13 columns]"
      ]
     },
     "execution_count": 4,
     "metadata": {},
     "output_type": "execute_result"
    }
   ],
   "source": [
    "tc"
   ]
  },
  {
   "cell_type": "markdown",
   "id": "ceebeb5d",
   "metadata": {},
   "source": [
    "# Goal"
   ]
  },
  {
   "cell_type": "markdown",
   "id": "35b2bfd2",
   "metadata": {},
   "source": [
    "### Find and make one change/recommendation that can be made to reduce churn. (i.e. find a driver of churn and make a recommendation for change.)"
   ]
  },
  {
   "cell_type": "markdown",
   "id": "3a6a0d9f",
   "metadata": {},
   "source": [
    "# Reducing Customer Churn "
   ]
  },
  {
   "cell_type": "markdown",
   "id": "98e53d20",
   "metadata": {},
   "source": [
    "### Possibilities"
   ]
  },
  {
   "cell_type": "markdown",
   "id": "1b642c2e",
   "metadata": {},
   "source": [
    "Churn Vs. Tenure "
   ]
  },
  {
   "cell_type": "code",
   "execution_count": 13,
   "id": "7d7dff8a",
   "metadata": {},
   "outputs": [
    {
     "data": {
      "text/plain": [
       "<AxesSubplot:xlabel='tenure'>"
      ]
     },
     "execution_count": 13,
     "metadata": {},
     "output_type": "execute_result"
    },
    {
     "data": {
      "image/png": "[encoded data removed]",
      "text/plain": [
       "<Figure size 432x288 with 1 Axes>"
      ]
     },
     "metadata": {
      "needs_background": "light"
     },
     "output_type": "display_data"
    }
   ],
   "source": [
    "pd.crosstab(tc.tenure, tc.churn, normalize=\"index\").plot.bar()"
   ]
  },
  {
   "cell_type": "markdown",
   "id": "cec83204",
   "metadata": {},
   "source": [
    "Churn Vs. Monthly Charges "
   ]
  },
  {
   "cell_type": "code",
   "execution_count": 21,
   "id": "5c064221",
   "metadata": {},
   "outputs": [
    {
     "data": {
      "text/plain": [
       "<AxesSubplot:xlabel='monthly_charges'>"
      ]
     },
     "execution_count": 21,
     "metadata": {},
     "output_type": "execute_result"
    },
    {
     "data": {
      "image/png": "[encoded data removed]",
      "text/plain": [
       "<Figure size 432x288 with 1 Axes>"
      ]
     },
     "metadata": {
      "needs_background": "light"
     },
     "output_type": "display_data"
    }
   ],
   "source": [
    "pd.crosstab(tc.monthly_charges, tc.churn, normalize=\"index\").plot.bar()"
   ]
  },
  {
   "cell_type": "code",
   "execution_count": 44,
   "id": "b995086f",
   "metadata": {},
   "outputs": [
    {
     "data": {
      "text/plain": [
       "70.35"
      ]
     },
     "execution_count": 44,
     "metadata": {},
     "output_type": "execute_result"
    }
   ],
   "source": [
    "tc['monthly_charges'].median()"
   ]
  },
  {
   "cell_type": "code",
   "execution_count": 45,
   "id": "c6ce9261",
   "metadata": {},
   "outputs": [
    {
     "data": {
      "text/plain": [
       "0    20.05\n",
       "dtype: float64"
      ]
     },
     "execution_count": 45,
     "metadata": {},
     "output_type": "execute_result"
    }
   ],
   "source": [
    "tc['monthly_charges'].mode()"
   ]
  },
  {
   "cell_type": "code",
   "execution_count": 46,
   "id": "d40ed0f1",
   "metadata": {},
   "outputs": [
    {
     "data": {
      "text/plain": [
       "18.25"
      ]
     },
     "execution_count": 46,
     "metadata": {},
     "output_type": "execute_result"
    }
   ],
   "source": [
    "tc['monthly_charges'].min()"
   ]
  },
  {
   "cell_type": "code",
   "execution_count": 47,
   "id": "6f6ef2ef",
   "metadata": {},
   "outputs": [
    {
     "data": {
      "text/plain": [
       "118.75"
      ]
     },
     "execution_count": 47,
     "metadata": {},
     "output_type": "execute_result"
    }
   ],
   "source": [
    "tc['monthly_charges'].max()"
   ]
  },
  {
   "cell_type": "markdown",
   "id": "fbe99f3e",
   "metadata": {},
   "source": [
    "Churn Vs. Payment Type "
   ]
  },
  {
   "cell_type": "code",
   "execution_count": 15,
   "id": "70f4dd79",
   "metadata": {},
   "outputs": [
    {
     "data": {
      "text/html": [
       "<div>\n",
       "<style scoped>\n",
       "    .dataframe tbody tr th:only-of-type {\n",
       "        vertical-align: middle;\n",
       "    }\n",
       "\n",
       "    .dataframe tbody tr th {\n",
       "        vertical-align: top;\n",
       "    }\n",
       "\n",
       "    .dataframe thead th {\n",
       "        text-align: right;\n",
       "    }\n",
       "</style>\n",
       "<table border=\"1\" class=\"dataframe\">\n",
       "  <thead>\n",
       "    <tr style=\"text-align: right;\">\n",
       "      <th>churn</th>\n",
       "      <th>No</th>\n",
       "      <th>Yes</th>\n",
       "    </tr>\n",
       "    <tr>\n",
       "      <th>payment_type</th>\n",
       "      <th></th>\n",
       "      <th></th>\n",
       "    </tr>\n",
       "  </thead>\n",
       "  <tbody>\n",
       "    <tr>\n",
       "      <th>Bank transfer (automatic)</th>\n",
       "      <td>0.832687</td>\n",
       "      <td>0.167313</td>\n",
       "    </tr>\n",
       "    <tr>\n",
       "      <th>Credit card (automatic)</th>\n",
       "      <td>0.847769</td>\n",
       "      <td>0.152231</td>\n",
       "    </tr>\n",
       "    <tr>\n",
       "      <th>Electronic check</th>\n",
       "      <td>0.547146</td>\n",
       "      <td>0.452854</td>\n",
       "    </tr>\n",
       "    <tr>\n",
       "      <th>Mailed check</th>\n",
       "      <td>0.808933</td>\n",
       "      <td>0.191067</td>\n",
       "    </tr>\n",
       "  </tbody>\n",
       "</table>\n",
       "</div>"
      ],
      "text/plain": [
       "churn                            No       Yes\n",
       "payment_type                                 \n",
       "Bank transfer (automatic)  0.832687  0.167313\n",
       "Credit card (automatic)    0.847769  0.152231\n",
       "Electronic check           0.547146  0.452854\n",
       "Mailed check               0.808933  0.191067"
      ]
     },
     "execution_count": 15,
     "metadata": {},
     "output_type": "execute_result"
    }
   ],
   "source": [
    "pd.crosstab(tc.payment_type, tc.churn, normalize=\"index\")\n"
   ]
  },
  {
   "cell_type": "code",
   "execution_count": 9,
   "id": "ad473774",
   "metadata": {},
   "outputs": [
    {
     "data": {
      "text/plain": [
       "Text(0.5, 1.0, 'Churn by Payment Type')"
      ]
     },
     "execution_count": 9,
     "metadata": {},
     "output_type": "execute_result"
    },
    {
     "data": {
      "image/png": "[encoded data removed]",
      "text/plain": [
       "<Figure size 432x288 with 1 Axes>"
      ]
     },
     "metadata": {
      "needs_background": "light"
     },
     "output_type": "display_data"
    }
   ],
   "source": [
    "\n",
    "pd.crosstab(tc.payment_type, tc.churn, normalize=\"index\").plot.bar()\n",
    "plt.title(\"Churn by Payment Type\")"
   ]
  },
  {
   "cell_type": "markdown",
   "id": "48f3e61a",
   "metadata": {},
   "source": [
    "Churn Vs. Contract Type "
   ]
  },
  {
   "cell_type": "code",
   "execution_count": 16,
   "id": "83c4c4c5",
   "metadata": {},
   "outputs": [
    {
     "data": {
      "text/html": [
       "<div>\n",
       "<style scoped>\n",
       "    .dataframe tbody tr th:only-of-type {\n",
       "        vertical-align: middle;\n",
       "    }\n",
       "\n",
       "    .dataframe tbody tr th {\n",
       "        vertical-align: top;\n",
       "    }\n",
       "\n",
       "    .dataframe thead th {\n",
       "        text-align: right;\n",
       "    }\n",
       "</style>\n",
       "<table border=\"1\" class=\"dataframe\">\n",
       "  <thead>\n",
       "    <tr style=\"text-align: right;\">\n",
       "      <th>churn</th>\n",
       "      <th>No</th>\n",
       "      <th>Yes</th>\n",
       "    </tr>\n",
       "    <tr>\n",
       "      <th>contract_type</th>\n",
       "      <th></th>\n",
       "      <th></th>\n",
       "    </tr>\n",
       "  </thead>\n",
       "  <tbody>\n",
       "    <tr>\n",
       "      <th>0</th>\n",
       "      <td>0.572755</td>\n",
       "      <td>0.427245</td>\n",
       "    </tr>\n",
       "    <tr>\n",
       "      <th>1</th>\n",
       "      <td>0.887534</td>\n",
       "      <td>0.112466</td>\n",
       "    </tr>\n",
       "    <tr>\n",
       "      <th>2</th>\n",
       "      <td>0.971715</td>\n",
       "      <td>0.028285</td>\n",
       "    </tr>\n",
       "  </tbody>\n",
       "</table>\n",
       "</div>"
      ],
      "text/plain": [
       "churn                No       Yes\n",
       "contract_type                    \n",
       "0              0.572755  0.427245\n",
       "1              0.887534  0.112466\n",
       "2              0.971715  0.028285"
      ]
     },
     "execution_count": 16,
     "metadata": {},
     "output_type": "execute_result"
    }
   ],
   "source": [
    "pd.crosstab(tc.contract_type, tc.churn, normalize=\"index\")"
   ]
  },
  {
   "cell_type": "code",
   "execution_count": 130,
   "id": "53ce7cbe",
   "metadata": {},
   "outputs": [
    {
     "data": {
      "text/plain": [
       "Text(0.5, 1.0, 'Churn by Length of Contract')"
      ]
     },
     "execution_count": 130,
     "metadata": {},
     "output_type": "execute_result"
    },
    {
     "data": {
      "image/png": "[encoded data removed]",
      "text/plain": [
       "<Figure size 432x288 with 1 Axes>"
      ]
     },
     "metadata": {
      "needs_background": "light"
     },
     "output_type": "display_data"
    }
   ],
   "source": [
    "pd.crosstab(tc.contract_type, tc.churn, normalize=\"index\").plot.bar()\n",
    "plt.title(\"Churn by Length of Contract\")"
   ]
  },
  {
   "cell_type": "markdown",
   "id": "d9bd545a",
   "metadata": {},
   "source": [
    "Churn Vs. Internet Service "
   ]
  },
  {
   "cell_type": "code",
   "execution_count": 23,
   "id": "82be97f3",
   "metadata": {},
   "outputs": [
    {
     "data": {
      "text/plain": [
       "<AxesSubplot:xlabel='internet_service'>"
      ]
     },
     "execution_count": 23,
     "metadata": {},
     "output_type": "execute_result"
    },
    {
     "data": {
      "image/png": "[encoded data removed]",
      "text/plain": [
       "<Figure size 432x288 with 1 Axes>"
      ]
     },
     "metadata": {
      "needs_background": "light"
     },
     "output_type": "display_data"
    }
   ],
   "source": [
    "pd.crosstab(tc.internet_service, tc.churn, normalize=\"index\").plot.bar()"
   ]
  },
  {
   "cell_type": "markdown",
   "id": "ab56c44b",
   "metadata": {},
   "source": [
    "Churn Vs. Phone Service "
   ]
  },
  {
   "cell_type": "code",
   "execution_count": 25,
   "id": "51576ad5",
   "metadata": {},
   "outputs": [
    {
     "data": {
      "text/plain": [
       "<AxesSubplot:xlabel='phone_service'>"
      ]
     },
     "execution_count": 25,
     "metadata": {},
     "output_type": "execute_result"
    },
    {
     "data": {
      "image/png": "[encoded data removed]",
      "text/plain": [
       "<Figure size 432x288 with 1 Axes>"
      ]
     },
     "metadata": {
      "needs_background": "light"
     },
     "output_type": "display_data"
    }
   ],
   "source": [
    "pd.crosstab(tc.phone_service, tc.churn, normalize=\"index\").plot.bar()"
   ]
  },
  {
   "cell_type": "markdown",
   "id": "be430155",
   "metadata": {},
   "source": [
    "Churn Vs. Dependents "
   ]
  },
  {
   "cell_type": "code",
   "execution_count": 26,
   "id": "ae5d060c",
   "metadata": {},
   "outputs": [
    {
     "data": {
      "text/plain": [
       "<AxesSubplot:xlabel='dependents'>"
      ]
     },
     "execution_count": 26,
     "metadata": {},
     "output_type": "execute_result"
    },
    {
     "data": {
      "image/png": "[encoded data removed]",
      "text/plain": [
       "<Figure size 432x288 with 1 Axes>"
      ]
     },
     "metadata": {
      "needs_background": "light"
     },
     "output_type": "display_data"
    }
   ],
   "source": [
    "pd.crosstab(tc.dependents, tc.churn, normalize=\"index\").plot.bar()"
   ]
  },
  {
   "cell_type": "markdown",
   "id": "6b333ce0",
   "metadata": {},
   "source": [
    "Churn Vs. Partner"
   ]
  },
  {
   "cell_type": "code",
   "execution_count": 27,
   "id": "334e238a",
   "metadata": {},
   "outputs": [
    {
     "data": {
      "text/plain": [
       "<AxesSubplot:xlabel='partner'>"
      ]
     },
     "execution_count": 27,
     "metadata": {},
     "output_type": "execute_result"
    },
    {
     "data": {
      "image/png": "[encoded data removed]",
      "text/plain": [
       "<Figure size 432x288 with 1 Axes>"
      ]
     },
     "metadata": {
      "needs_background": "light"
     },
     "output_type": "display_data"
    }
   ],
   "source": [
    "pd.crosstab(tc.partner, tc.churn, normalize=\"index\").plot.bar()"
   ]
  },
  {
   "cell_type": "markdown",
   "id": "030d55b4",
   "metadata": {},
   "source": [
    "Churn Vs. Senior Citizen "
   ]
  },
  {
   "cell_type": "markdown",
   "id": "a045d6ad",
   "metadata": {},
   "source": [
    "### Hypothesis seniors who carry only one or two phone lines with us are leaving"
   ]
  },
  {
   "cell_type": "markdown",
   "id": "f3eaeae3",
   "metadata": {},
   "source": [
    "Seniors are churning at a rate of 41.6%"
   ]
  },
  {
   "cell_type": "code",
   "execution_count": 85,
   "id": "24b943ce",
   "metadata": {},
   "outputs": [
    {
     "data": {
      "text/html": [
       "<div>\n",
       "<style scoped>\n",
       "    .dataframe tbody tr th:only-of-type {\n",
       "        vertical-align: middle;\n",
       "    }\n",
       "\n",
       "    .dataframe tbody tr th {\n",
       "        vertical-align: top;\n",
       "    }\n",
       "\n",
       "    .dataframe thead th {\n",
       "        text-align: right;\n",
       "    }\n",
       "</style>\n",
       "<table border=\"1\" class=\"dataframe\">\n",
       "  <thead>\n",
       "    <tr style=\"text-align: right;\">\n",
       "      <th>churn</th>\n",
       "      <th>No</th>\n",
       "      <th>Yes</th>\n",
       "    </tr>\n",
       "    <tr>\n",
       "      <th>is_senior_citizen</th>\n",
       "      <th></th>\n",
       "      <th></th>\n",
       "    </tr>\n",
       "  </thead>\n",
       "  <tbody>\n",
       "    <tr>\n",
       "      <th>0</th>\n",
       "      <td>0.764009</td>\n",
       "      <td>0.235991</td>\n",
       "    </tr>\n",
       "    <tr>\n",
       "      <th>1</th>\n",
       "      <td>0.583187</td>\n",
       "      <td>0.416813</td>\n",
       "    </tr>\n",
       "  </tbody>\n",
       "</table>\n",
       "</div>"
      ],
      "text/plain": [
       "churn                    No       Yes\n",
       "is_senior_citizen                    \n",
       "0                  0.764009  0.235991\n",
       "1                  0.583187  0.416813"
      ]
     },
     "execution_count": 85,
     "metadata": {},
     "output_type": "execute_result"
    }
   ],
   "source": [
    "seniorchurn = pd.crosstab(tc.is_senior_citizen, tc.churn, normalize=\"index\")\n",
    "seniorchurn"
   ]
  },
  {
   "cell_type": "markdown",
   "id": "8124932e",
   "metadata": {},
   "source": [
    "### While it is not possible to know, based on the data shown here, how much of this churn is related to senior deaths. We do know this:"
   ]
  },
  {
   "cell_type": "markdown",
   "id": "9581c941",
   "metadata": {},
   "source": [
    "Deaths per 100,000 population:"
   ]
  },
  {
   "cell_type": "markdown",
   "id": "0cef7319",
   "metadata": {},
   "source": [
    " 65-74: 2,072.3"
   ]
  },
  {
   "cell_type": "markdown",
   "id": "b3f7275c",
   "metadata": {},
   "source": [
    "75-84: 4,997.0"
   ]
  },
  {
   "cell_type": "markdown",
   "id": "dab22cb0",
   "metadata": {},
   "source": [
    "85 and over: 15,210.9"
   ]
  },
  {
   "cell_type": "markdown",
   "id": "58e0d46d",
   "metadata": {},
   "source": [
    "National Vital Statistics System – Mortality Data (2020) via CDC WONDER"
   ]
  },
  {
   "cell_type": "markdown",
   "id": "1ce3626c",
   "metadata": {},
   "source": [
    "Life expectancy at age 65 : 19.6 years"
   ]
  },
  {
   "cell_type": "markdown",
   "id": "45c1c558",
   "metadata": {},
   "source": [
    "https://www.cdc.gov/nchs/fastats/older-american-health.htm"
   ]
  },
  {
   "cell_type": "markdown",
   "id": "6a211f4d",
   "metadata": {},
   "source": [
    "The 85 and older population is projected to more than double from 6.5 million in\n",
    "2018 to 14.4 million in 2040 (a 123% increase)"
   ]
  },
  {
   "cell_type": "markdown",
   "id": "ebfa18f6",
   "metadata": {},
   "source": [
    "https://acl.gov/sites/default/files/Aging%20and%20Disability%20in%20America/2019ProfileOlderAmericans508.pdf"
   ]
  },
  {
   "cell_type": "code",
   "execution_count": 28,
   "id": "5b9ff8e8",
   "metadata": {},
   "outputs": [
    {
     "data": {
      "text/plain": [
       "<AxesSubplot:xlabel='is_senior_citizen'>"
      ]
     },
     "execution_count": 28,
     "metadata": {},
     "output_type": "execute_result"
    },
    {
     "data": {
      "image/png": "[encoded data removed]",
      "text/plain": [
       "<Figure size 432x288 with 1 Axes>"
      ]
     },
     "metadata": {
      "needs_background": "light"
     },
     "output_type": "display_data"
    }
   ],
   "source": [
    "pd.crosstab(tc.is_senior_citizen, tc.churn, normalize=\"index\").plot.bar()"
   ]
  },
  {
   "cell_type": "code",
   "execution_count": 89,
   "id": "e299f1b8",
   "metadata": {},
   "outputs": [
    {
     "data": {
      "text/html": [
       "<div>\n",
       "<style scoped>\n",
       "    .dataframe tbody tr th:only-of-type {\n",
       "        vertical-align: middle;\n",
       "    }\n",
       "\n",
       "    .dataframe tbody tr th {\n",
       "        vertical-align: top;\n",
       "    }\n",
       "\n",
       "    .dataframe thead th {\n",
       "        text-align: right;\n",
       "    }\n",
       "</style>\n",
       "<table border=\"1\" class=\"dataframe\">\n",
       "  <thead>\n",
       "    <tr style=\"text-align: right;\">\n",
       "      <th></th>\n",
       "      <th>is_senior_citizen</th>\n",
       "      <th>payment_type</th>\n",
       "    </tr>\n",
       "  </thead>\n",
       "  <tbody>\n",
       "    <tr>\n",
       "      <th>0</th>\n",
       "      <td>0</td>\n",
       "      <td>Mailed check</td>\n",
       "    </tr>\n",
       "    <tr>\n",
       "      <th>1</th>\n",
       "      <td>0</td>\n",
       "      <td>Mailed check</td>\n",
       "    </tr>\n",
       "    <tr>\n",
       "      <th>2</th>\n",
       "      <td>0</td>\n",
       "      <td>Electronic check</td>\n",
       "    </tr>\n",
       "    <tr>\n",
       "      <th>3</th>\n",
       "      <td>1</td>\n",
       "      <td>Electronic check</td>\n",
       "    </tr>\n",
       "    <tr>\n",
       "      <th>4</th>\n",
       "      <td>1</td>\n",
       "      <td>Mailed check</td>\n",
       "    </tr>\n",
       "    <tr>\n",
       "      <th>...</th>\n",
       "      <td>...</td>\n",
       "      <td>...</td>\n",
       "    </tr>\n",
       "    <tr>\n",
       "      <th>7044</th>\n",
       "      <td>0</td>\n",
       "      <td>Mailed check</td>\n",
       "    </tr>\n",
       "    <tr>\n",
       "      <th>7045</th>\n",
       "      <td>0</td>\n",
       "      <td>Electronic check</td>\n",
       "    </tr>\n",
       "    <tr>\n",
       "      <th>7046</th>\n",
       "      <td>0</td>\n",
       "      <td>Mailed check</td>\n",
       "    </tr>\n",
       "    <tr>\n",
       "      <th>7047</th>\n",
       "      <td>0</td>\n",
       "      <td>Mailed check</td>\n",
       "    </tr>\n",
       "    <tr>\n",
       "      <th>7048</th>\n",
       "      <td>0</td>\n",
       "      <td>Electronic check</td>\n",
       "    </tr>\n",
       "  </tbody>\n",
       "</table>\n",
       "<p>7049 rows × 2 columns</p>\n",
       "</div>"
      ],
      "text/plain": [
       "      is_senior_citizen      payment_type\n",
       "0                     0      Mailed check\n",
       "1                     0      Mailed check\n",
       "2                     0  Electronic check\n",
       "3                     1  Electronic check\n",
       "4                     1      Mailed check\n",
       "...                 ...               ...\n",
       "7044                  0      Mailed check\n",
       "7045                  0  Electronic check\n",
       "7046                  0      Mailed check\n",
       "7047                  0      Mailed check\n",
       "7048                  0  Electronic check\n",
       "\n",
       "[7049 rows x 2 columns]"
      ]
     },
     "execution_count": 89,
     "metadata": {},
     "output_type": "execute_result"
    }
   ],
   "source": [
    "tc[['is_senior_citizen', 'payment_type']]"
   ]
  },
  {
   "cell_type": "code",
   "execution_count": 12,
   "id": "7c42bf25",
   "metadata": {},
   "outputs": [
    {
     "data": {
      "text/html": [
       "<div>\n",
       "<style scoped>\n",
       "    .dataframe tbody tr th:only-of-type {\n",
       "        vertical-align: middle;\n",
       "    }\n",
       "\n",
       "    .dataframe tbody tr th {\n",
       "        vertical-align: top;\n",
       "    }\n",
       "\n",
       "    .dataframe thead th {\n",
       "        text-align: right;\n",
       "    }\n",
       "</style>\n",
       "<table border=\"1\" class=\"dataframe\">\n",
       "  <thead>\n",
       "    <tr style=\"text-align: right;\">\n",
       "      <th></th>\n",
       "      <th>customer_id</th>\n",
       "      <th>gender</th>\n",
       "      <th>is_senior_citizen</th>\n",
       "      <th>partner</th>\n",
       "      <th>dependents</th>\n",
       "      <th>phone_service</th>\n",
       "      <th>internet_service</th>\n",
       "      <th>contract_type</th>\n",
       "      <th>payment_type</th>\n",
       "      <th>monthly_charges</th>\n",
       "      <th>total_charges</th>\n",
       "      <th>churn</th>\n",
       "      <th>tenure</th>\n",
       "    </tr>\n",
       "  </thead>\n",
       "  <tbody>\n",
       "    <tr>\n",
       "      <th>3</th>\n",
       "      <td>0011-IGKFF</td>\n",
       "      <td>Male</td>\n",
       "      <td>1</td>\n",
       "      <td>Yes</td>\n",
       "      <td>No</td>\n",
       "      <td>1</td>\n",
       "      <td>2</td>\n",
       "      <td>0</td>\n",
       "      <td>Electronic check</td>\n",
       "      <td>98.00</td>\n",
       "      <td>1237.85</td>\n",
       "      <td>Yes</td>\n",
       "      <td>12.6</td>\n",
       "    </tr>\n",
       "    <tr>\n",
       "      <th>4</th>\n",
       "      <td>0013-EXCHZ</td>\n",
       "      <td>Female</td>\n",
       "      <td>1</td>\n",
       "      <td>Yes</td>\n",
       "      <td>No</td>\n",
       "      <td>1</td>\n",
       "      <td>2</td>\n",
       "      <td>0</td>\n",
       "      <td>Mailed check</td>\n",
       "      <td>83.90</td>\n",
       "      <td>267.40</td>\n",
       "      <td>Yes</td>\n",
       "      <td>3.2</td>\n",
       "    </tr>\n",
       "    <tr>\n",
       "      <th>6</th>\n",
       "      <td>0013-SMEOE</td>\n",
       "      <td>Female</td>\n",
       "      <td>1</td>\n",
       "      <td>Yes</td>\n",
       "      <td>No</td>\n",
       "      <td>1</td>\n",
       "      <td>2</td>\n",
       "      <td>2</td>\n",
       "      <td>Bank transfer (automatic)</td>\n",
       "      <td>109.70</td>\n",
       "      <td>7904.25</td>\n",
       "      <td>No</td>\n",
       "      <td>72.1</td>\n",
       "    </tr>\n",
       "    <tr>\n",
       "      <th>8</th>\n",
       "      <td>0015-UOCOJ</td>\n",
       "      <td>Female</td>\n",
       "      <td>1</td>\n",
       "      <td>No</td>\n",
       "      <td>No</td>\n",
       "      <td>1</td>\n",
       "      <td>1</td>\n",
       "      <td>0</td>\n",
       "      <td>Electronic check</td>\n",
       "      <td>48.20</td>\n",
       "      <td>340.35</td>\n",
       "      <td>No</td>\n",
       "      <td>7.1</td>\n",
       "    </tr>\n",
       "    <tr>\n",
       "      <th>17</th>\n",
       "      <td>0021-IKXGC</td>\n",
       "      <td>Female</td>\n",
       "      <td>1</td>\n",
       "      <td>No</td>\n",
       "      <td>No</td>\n",
       "      <td>2</td>\n",
       "      <td>2</td>\n",
       "      <td>0</td>\n",
       "      <td>Electronic check</td>\n",
       "      <td>72.10</td>\n",
       "      <td>72.10</td>\n",
       "      <td>No</td>\n",
       "      <td>1.0</td>\n",
       "    </tr>\n",
       "    <tr>\n",
       "      <th>...</th>\n",
       "      <td>...</td>\n",
       "      <td>...</td>\n",
       "      <td>...</td>\n",
       "      <td>...</td>\n",
       "      <td>...</td>\n",
       "      <td>...</td>\n",
       "      <td>...</td>\n",
       "      <td>...</td>\n",
       "      <td>...</td>\n",
       "      <td>...</td>\n",
       "      <td>...</td>\n",
       "      <td>...</td>\n",
       "      <td>...</td>\n",
       "    </tr>\n",
       "    <tr>\n",
       "      <th>7020</th>\n",
       "      <td>9961-JBNMK</td>\n",
       "      <td>Male</td>\n",
       "      <td>1</td>\n",
       "      <td>No</td>\n",
       "      <td>No</td>\n",
       "      <td>1</td>\n",
       "      <td>2</td>\n",
       "      <td>0</td>\n",
       "      <td>Bank transfer (automatic)</td>\n",
       "      <td>96.80</td>\n",
       "      <td>2030.30</td>\n",
       "      <td>Yes</td>\n",
       "      <td>21.0</td>\n",
       "    </tr>\n",
       "    <tr>\n",
       "      <th>7023</th>\n",
       "      <td>9965-YOKZB</td>\n",
       "      <td>Male</td>\n",
       "      <td>1</td>\n",
       "      <td>No</td>\n",
       "      <td>No</td>\n",
       "      <td>2</td>\n",
       "      <td>2</td>\n",
       "      <td>0</td>\n",
       "      <td>Electronic check</td>\n",
       "      <td>83.85</td>\n",
       "      <td>790.15</td>\n",
       "      <td>Yes</td>\n",
       "      <td>9.4</td>\n",
       "    </tr>\n",
       "    <tr>\n",
       "      <th>7027</th>\n",
       "      <td>9971-ZWPBF</td>\n",
       "      <td>Male</td>\n",
       "      <td>1</td>\n",
       "      <td>Yes</td>\n",
       "      <td>Yes</td>\n",
       "      <td>2</td>\n",
       "      <td>2</td>\n",
       "      <td>0</td>\n",
       "      <td>Electronic check</td>\n",
       "      <td>108.90</td>\n",
       "      <td>3625.20</td>\n",
       "      <td>No</td>\n",
       "      <td>33.3</td>\n",
       "    </tr>\n",
       "    <tr>\n",
       "      <th>7030</th>\n",
       "      <td>9972-VAFJJ</td>\n",
       "      <td>Female</td>\n",
       "      <td>1</td>\n",
       "      <td>Yes</td>\n",
       "      <td>No</td>\n",
       "      <td>1</td>\n",
       "      <td>2</td>\n",
       "      <td>1</td>\n",
       "      <td>Electronic check</td>\n",
       "      <td>94.00</td>\n",
       "      <td>4871.45</td>\n",
       "      <td>No</td>\n",
       "      <td>51.8</td>\n",
       "    </tr>\n",
       "    <tr>\n",
       "      <th>7040</th>\n",
       "      <td>9978-HYCIN</td>\n",
       "      <td>Male</td>\n",
       "      <td>1</td>\n",
       "      <td>Yes</td>\n",
       "      <td>Yes</td>\n",
       "      <td>1</td>\n",
       "      <td>2</td>\n",
       "      <td>1</td>\n",
       "      <td>Bank transfer (automatic)</td>\n",
       "      <td>84.95</td>\n",
       "      <td>4018.05</td>\n",
       "      <td>No</td>\n",
       "      <td>47.3</td>\n",
       "    </tr>\n",
       "  </tbody>\n",
       "</table>\n",
       "<p>1142 rows × 13 columns</p>\n",
       "</div>"
      ],
      "text/plain": [
       "     customer_id  gender  is_senior_citizen partner dependents  phone_service  \\\n",
       "3     0011-IGKFF    Male                  1     Yes         No              1   \n",
       "4     0013-EXCHZ  Female                  1     Yes         No              1   \n",
       "6     0013-SMEOE  Female                  1     Yes         No              1   \n",
       "8     0015-UOCOJ  Female                  1      No         No              1   \n",
       "17    0021-IKXGC  Female                  1      No         No              2   \n",
       "...          ...     ...                ...     ...        ...            ...   \n",
       "7020  9961-JBNMK    Male                  1      No         No              1   \n",
       "7023  9965-YOKZB    Male                  1      No         No              2   \n",
       "7027  9971-ZWPBF    Male                  1     Yes        Yes              2   \n",
       "7030  9972-VAFJJ  Female                  1     Yes         No              1   \n",
       "7040  9978-HYCIN    Male                  1     Yes        Yes              1   \n",
       "\n",
       "      internet_service  contract_type               payment_type  \\\n",
       "3                    2              0           Electronic check   \n",
       "4                    2              0               Mailed check   \n",
       "6                    2              2  Bank transfer (automatic)   \n",
       "8                    1              0           Electronic check   \n",
       "17                   2              0           Electronic check   \n",
       "...                ...            ...                        ...   \n",
       "7020                 2              0  Bank transfer (automatic)   \n",
       "7023                 2              0           Electronic check   \n",
       "7027                 2              0           Electronic check   \n",
       "7030                 2              1           Electronic check   \n",
       "7040                 2              1  Bank transfer (automatic)   \n",
       "\n",
       "      monthly_charges  total_charges churn  tenure  \n",
       "3               98.00        1237.85   Yes    12.6  \n",
       "4               83.90         267.40   Yes     3.2  \n",
       "6              109.70        7904.25    No    72.1  \n",
       "8               48.20         340.35    No     7.1  \n",
       "17              72.10          72.10    No     1.0  \n",
       "...               ...            ...   ...     ...  \n",
       "7020            96.80        2030.30   Yes    21.0  \n",
       "7023            83.85         790.15   Yes     9.4  \n",
       "7027           108.90        3625.20    No    33.3  \n",
       "7030            94.00        4871.45    No    51.8  \n",
       "7040            84.95        4018.05    No    47.3  \n",
       "\n",
       "[1142 rows x 13 columns]"
      ]
     },
     "execution_count": 12,
     "metadata": {},
     "output_type": "execute_result"
    }
   ],
   "source": [
    "only_seniors = tc[tc['is_senior_citizen']== 1]\n",
    "only_seniors"
   ]
  },
  {
   "cell_type": "code",
   "execution_count": 13,
   "id": "756e2d91",
   "metadata": {},
   "outputs": [
    {
     "data": {
      "text/plain": [
       "Electronic check             594\n",
       "Bank transfer (automatic)    233\n",
       "Credit card (automatic)      221\n",
       "Mailed check                  94\n",
       "Name: payment_type, dtype: int64"
      ]
     },
     "execution_count": 13,
     "metadata": {},
     "output_type": "execute_result"
    }
   ],
   "source": [
    "senior_payments = only_seniors.payment_type.value_counts()\n",
    "senior_payments"
   ]
  },
  {
   "cell_type": "code",
   "execution_count": 14,
   "id": "20f93ef0",
   "metadata": {},
   "outputs": [
    {
     "data": {
      "text/plain": [
       "Text(0.5, 1.0, 'Senior Payments')"
      ]
     },
     "execution_count": 14,
     "metadata": {},
     "output_type": "execute_result"
    },
    {
     "data": {
      "image/png": "[encoded data removed]",
      "text/plain": [
       "<Figure size 432x288 with 1 Axes>"
      ]
     },
     "metadata": {},
     "output_type": "display_data"
    }
   ],
   "source": [
    "labels = ['Electronic check', 'Bank transfer-Auto', 'Credit Card-Auto', 'Mailed Check']\n",
    "plt.pie(senior_payments, labels = labels)\n",
    "plt.title(\"Senior Payments\")"
   ]
  },
  {
   "cell_type": "code",
   "execution_count": 110,
   "id": "a3f031e0",
   "metadata": {},
   "outputs": [
    {
     "data": {
      "text/plain": [
       "2    665\n",
       "1    373\n",
       "0    104\n",
       "Name: phone_service, dtype: int64"
      ]
     },
     "execution_count": 110,
     "metadata": {},
     "output_type": "execute_result"
    }
   ],
   "source": [
    "senior_phonelines = only_seniors.phone_service.value_counts()\n",
    "senior_phonelines"
   ]
  },
  {
   "cell_type": "code",
   "execution_count": 111,
   "id": "00e73fb9",
   "metadata": {},
   "outputs": [
    {
     "data": {
      "text/plain": [
       "2    831\n",
       "1    259\n",
       "0     52\n",
       "Name: internet_service, dtype: int64"
      ]
     },
     "execution_count": 111,
     "metadata": {},
     "output_type": "execute_result"
    }
   ],
   "source": [
    "senior_internetlines = only_seniors.internet_service.value_counts()\n",
    "senior_internetlines"
   ]
  },
  {
   "cell_type": "code",
   "execution_count": 113,
   "id": "0a13ccfc",
   "metadata": {},
   "outputs": [
    {
     "data": {
      "text/plain": [
       "(115, 125]     12\n",
       "(25, 35]       40\n",
       "(35, 45]       40\n",
       "(15, 25]       47\n",
       "(55, 65]       49\n",
       "(45, 55]       66\n",
       "(105, 115]    111\n",
       "(65, 75]      157\n",
       "(75, 85]      181\n",
       "(85, 95]      214\n",
       "(95, 105]     225\n",
       "Name: monthly_charges, dtype: int64"
      ]
     },
     "execution_count": 113,
     "metadata": {},
     "output_type": "execute_result"
    }
   ],
   "source": [
    "senior_monthly = only_seniors.monthly_charges.value_counts().sort_values()\n",
    "senior_monthly"
   ]
  },
  {
   "cell_type": "code",
   "execution_count": 125,
   "id": "39f997fe",
   "metadata": {},
   "outputs": [
    {
     "data": {
      "text/plain": [
       "<pandas.core.groupby.generic.SeriesGroupBy object at 0x7fe8bb375670>"
      ]
     },
     "execution_count": 125,
     "metadata": {},
     "output_type": "execute_result"
    }
   ],
   "source": [
    "tc2 = tc.groupby(['churn']).agg('monthly_charges')\n",
    "tc2"
   ]
  },
  {
   "cell_type": "code",
   "execution_count": 119,
   "id": "d99334b5",
   "metadata": {},
   "outputs": [
    {
     "data": {
      "text/plain": [
       "(3, 4]       24\n",
       "(1, 2]       26\n",
       "(2, 3]       30\n",
       "(4, 5]       34\n",
       "(0, 1]       86\n",
       "(5, 100]    942\n",
       "Name: tenure, dtype: int64"
      ]
     },
     "execution_count": 119,
     "metadata": {},
     "output_type": "execute_result"
    }
   ],
   "source": [
    "senior_tenure = only_seniors.tenure.value_counts().sort_values()\n",
    "senior_tenure"
   ]
  },
  {
   "cell_type": "code",
   "execution_count": 121,
   "id": "5754ff6e",
   "metadata": {},
   "outputs": [
    {
     "data": {
      "text/plain": [
       "Text(0.5, 1.0, 'Senior Citizen Tenure')"
      ]
     },
     "execution_count": 121,
     "metadata": {},
     "output_type": "execute_result"
    },
    {
     "data": {
      "image/png": "[encoded data removed]",
      "text/plain": [
       "<Figure size 432x288 with 1 Axes>"
      ]
     },
     "metadata": {},
     "output_type": "display_data"
    }
   ],
   "source": [
    "labels = ['3-4', '1-2', '2-3', '4-5', '0-1', '5-100']\n",
    "plt.pie(senior_tenure, labels = labels)\n",
    "plt.title(\"Senior Citizen Tenure\")"
   ]
  },
  {
   "cell_type": "code",
   "execution_count": 127,
   "id": "dc3fdfef",
   "metadata": {},
   "outputs": [
    {
     "data": {
      "text/plain": [
       "0    807\n",
       "1    190\n",
       "2    145\n",
       "Name: contract_type, dtype: int64"
      ]
     },
     "execution_count": 127,
     "metadata": {},
     "output_type": "execute_result"
    }
   ],
   "source": [
    "senior_contracts = only_seniors.contract_type.value_counts()\n",
    "senior_contracts"
   ]
  },
  {
   "cell_type": "code",
   "execution_count": 129,
   "id": "a48a4fca",
   "metadata": {},
   "outputs": [
    {
     "data": {
      "text/plain": [
       "Text(0.5, 1.0, 'Senior Citizen Contracts')"
      ]
     },
     "execution_count": 129,
     "metadata": {},
     "output_type": "execute_result"
    },
    {
     "data": {
      "image/png": "[encoded data removed]",
      "text/plain": [
       "<Figure size 432x288 with 1 Axes>"
      ]
     },
     "metadata": {},
     "output_type": "display_data"
    }
   ],
   "source": [
    "labels = ['Under 1 Year', '1 Year', '2 Years']\n",
    "plt.pie(senior_contracts, labels = labels)\n",
    "plt.title(\"Senior Citizen Contracts\")"
   ]
  },
  {
   "cell_type": "code",
   "execution_count": null,
   "id": "f1cdef7d",
   "metadata": {},
   "outputs": [],
   "source": []
  },
  {
   "cell_type": "code",
   "execution_count": null,
   "id": "1c70fcbd",
   "metadata": {},
   "outputs": [],
   "source": []
  },
  {
   "cell_type": "code",
   "execution_count": null,
   "id": "2926fd3d",
   "metadata": {},
   "outputs": [],
   "source": []
  },
  {
   "cell_type": "code",
   "execution_count": null,
   "id": "267cddad",
   "metadata": {},
   "outputs": [],
   "source": []
  },
  {
   "cell_type": "code",
   "execution_count": null,
   "id": "b4dc49d3",
   "metadata": {},
   "outputs": [],
   "source": []
  },
  {
   "cell_type": "markdown",
   "id": "b79cbea2",
   "metadata": {},
   "source": [
    "### 58% of our senior citizen customers have two lines of phone service with us"
   ]
  },
  {
   "cell_type": "code",
   "execution_count": 71,
   "id": "100cf415",
   "metadata": {},
   "outputs": [
    {
     "data": {
      "text/html": [
       "<div>\n",
       "<style scoped>\n",
       "    .dataframe tbody tr th:only-of-type {\n",
       "        vertical-align: middle;\n",
       "    }\n",
       "\n",
       "    .dataframe tbody tr th {\n",
       "        vertical-align: top;\n",
       "    }\n",
       "\n",
       "    .dataframe thead th {\n",
       "        text-align: right;\n",
       "    }\n",
       "</style>\n",
       "<table border=\"1\" class=\"dataframe\">\n",
       "  <thead>\n",
       "    <tr style=\"text-align: right;\">\n",
       "      <th>phone_service</th>\n",
       "      <th>0</th>\n",
       "      <th>1</th>\n",
       "      <th>2</th>\n",
       "    </tr>\n",
       "    <tr>\n",
       "      <th>is_senior_citizen</th>\n",
       "      <th></th>\n",
       "      <th></th>\n",
       "      <th></th>\n",
       "    </tr>\n",
       "  </thead>\n",
       "  <tbody>\n",
       "    <tr>\n",
       "      <th>0</th>\n",
       "      <td>0.098019</td>\n",
       "      <td>0.511596</td>\n",
       "      <td>0.390384</td>\n",
       "    </tr>\n",
       "    <tr>\n",
       "      <th>1</th>\n",
       "      <td>0.091068</td>\n",
       "      <td>0.326620</td>\n",
       "      <td>0.582312</td>\n",
       "    </tr>\n",
       "  </tbody>\n",
       "</table>\n",
       "</div>"
      ],
      "text/plain": [
       "phone_service             0         1         2\n",
       "is_senior_citizen                              \n",
       "0                  0.098019  0.511596  0.390384\n",
       "1                  0.091068  0.326620  0.582312"
      ]
     },
     "execution_count": 71,
     "metadata": {},
     "output_type": "execute_result"
    }
   ],
   "source": [
    "pd.crosstab(tc.is_senior_citizen, tc.phone_service, normalize=\"index\")\n"
   ]
  },
  {
   "cell_type": "code",
   "execution_count": 69,
   "id": "49cc1a0c",
   "metadata": {},
   "outputs": [
    {
     "data": {
      "text/plain": [
       "<AxesSubplot:xlabel='is_senior_citizen'>"
      ]
     },
     "execution_count": 69,
     "metadata": {},
     "output_type": "execute_result"
    },
    {
     "data": {
      "image/png": "[encoded data removed]",
      "text/plain": [
       "<Figure size 432x288 with 1 Axes>"
      ]
     },
     "metadata": {
      "needs_background": "light"
     },
     "output_type": "display_data"
    }
   ],
   "source": [
    "pd.crosstab(tc.is_senior_citizen, tc.phone_service, normalize=\"index\").plot.bar()"
   ]
  },
  {
   "cell_type": "markdown",
   "id": "59a554f9",
   "metadata": {},
   "source": [
    "### Only 4% of our senior citizen customers do not have at least one line of internet service with us"
   ]
  },
  {
   "cell_type": "code",
   "execution_count": 72,
   "id": "ba9c60be",
   "metadata": {},
   "outputs": [
    {
     "data": {
      "text/html": [
       "<div>\n",
       "<style scoped>\n",
       "    .dataframe tbody tr th:only-of-type {\n",
       "        vertical-align: middle;\n",
       "    }\n",
       "\n",
       "    .dataframe tbody tr th {\n",
       "        vertical-align: top;\n",
       "    }\n",
       "\n",
       "    .dataframe thead th {\n",
       "        text-align: right;\n",
       "    }\n",
       "</style>\n",
       "<table border=\"1\" class=\"dataframe\">\n",
       "  <thead>\n",
       "    <tr style=\"text-align: right;\">\n",
       "      <th>internet_service</th>\n",
       "      <th>0</th>\n",
       "      <th>1</th>\n",
       "      <th>2</th>\n",
       "    </tr>\n",
       "    <tr>\n",
       "      <th>is_senior_citizen</th>\n",
       "      <th></th>\n",
       "      <th></th>\n",
       "      <th></th>\n",
       "    </tr>\n",
       "  </thead>\n",
       "  <tbody>\n",
       "    <tr>\n",
       "      <th>0</th>\n",
       "      <td>0.250042</td>\n",
       "      <td>0.366176</td>\n",
       "      <td>0.383782</td>\n",
       "    </tr>\n",
       "    <tr>\n",
       "      <th>1</th>\n",
       "      <td>0.045534</td>\n",
       "      <td>0.226795</td>\n",
       "      <td>0.727671</td>\n",
       "    </tr>\n",
       "  </tbody>\n",
       "</table>\n",
       "</div>"
      ],
      "text/plain": [
       "internet_service          0         1         2\n",
       "is_senior_citizen                              \n",
       "0                  0.250042  0.366176  0.383782\n",
       "1                  0.045534  0.226795  0.727671"
      ]
     },
     "execution_count": 72,
     "metadata": {},
     "output_type": "execute_result"
    }
   ],
   "source": [
    "pd.crosstab(tc.is_senior_citizen, tc.internet_service, normalize=\"index\")"
   ]
  },
  {
   "cell_type": "markdown",
   "id": "826e49c7",
   "metadata": {},
   "source": [
    "### Over 70% of our senior citizen customers have no contract with us"
   ]
  },
  {
   "cell_type": "code",
   "execution_count": 74,
   "id": "81ec5087",
   "metadata": {},
   "outputs": [
    {
     "data": {
      "text/html": [
       "<div>\n",
       "<style scoped>\n",
       "    .dataframe tbody tr th:only-of-type {\n",
       "        vertical-align: middle;\n",
       "    }\n",
       "\n",
       "    .dataframe tbody tr th {\n",
       "        vertical-align: top;\n",
       "    }\n",
       "\n",
       "    .dataframe thead th {\n",
       "        text-align: right;\n",
       "    }\n",
       "</style>\n",
       "<table border=\"1\" class=\"dataframe\">\n",
       "  <thead>\n",
       "    <tr style=\"text-align: right;\">\n",
       "      <th>contract_type</th>\n",
       "      <th>0</th>\n",
       "      <th>1</th>\n",
       "      <th>2</th>\n",
       "    </tr>\n",
       "    <tr>\n",
       "      <th>is_senior_citizen</th>\n",
       "      <th></th>\n",
       "      <th></th>\n",
       "      <th></th>\n",
       "    </tr>\n",
       "  </thead>\n",
       "  <tbody>\n",
       "    <tr>\n",
       "      <th>0</th>\n",
       "      <td>0.519553</td>\n",
       "      <td>0.217708</td>\n",
       "      <td>0.262739</td>\n",
       "    </tr>\n",
       "    <tr>\n",
       "      <th>1</th>\n",
       "      <td>0.706655</td>\n",
       "      <td>0.166375</td>\n",
       "      <td>0.126970</td>\n",
       "    </tr>\n",
       "  </tbody>\n",
       "</table>\n",
       "</div>"
      ],
      "text/plain": [
       "contract_type             0         1         2\n",
       "is_senior_citizen                              \n",
       "0                  0.519553  0.217708  0.262739\n",
       "1                  0.706655  0.166375  0.126970"
      ]
     },
     "execution_count": 74,
     "metadata": {},
     "output_type": "execute_result"
    }
   ],
   "source": [
    "pd.crosstab(tc.is_senior_citizen, tc.contract_type, normalize=\"index\")"
   ]
  },
  {
   "cell_type": "markdown",
   "id": "c388896f",
   "metadata": {},
   "source": [
    "### We also know from our total population of customers, that customers without contracts are much more likely to churn than those with one or two year contracts"
   ]
  },
  {
   "cell_type": "code",
   "execution_count": 86,
   "id": "a77c23d6",
   "metadata": {},
   "outputs": [
    {
     "data": {
      "text/html": [
       "<div>\n",
       "<style scoped>\n",
       "    .dataframe tbody tr th:only-of-type {\n",
       "        vertical-align: middle;\n",
       "    }\n",
       "\n",
       "    .dataframe tbody tr th {\n",
       "        vertical-align: top;\n",
       "    }\n",
       "\n",
       "    .dataframe thead th {\n",
       "        text-align: right;\n",
       "    }\n",
       "</style>\n",
       "<table border=\"1\" class=\"dataframe\">\n",
       "  <thead>\n",
       "    <tr style=\"text-align: right;\">\n",
       "      <th>churn</th>\n",
       "      <th>No</th>\n",
       "      <th>Yes</th>\n",
       "    </tr>\n",
       "    <tr>\n",
       "      <th>contract_type</th>\n",
       "      <th></th>\n",
       "      <th></th>\n",
       "    </tr>\n",
       "  </thead>\n",
       "  <tbody>\n",
       "    <tr>\n",
       "      <th>0</th>\n",
       "      <td>0.572755</td>\n",
       "      <td>0.427245</td>\n",
       "    </tr>\n",
       "    <tr>\n",
       "      <th>1</th>\n",
       "      <td>0.887534</td>\n",
       "      <td>0.112466</td>\n",
       "    </tr>\n",
       "    <tr>\n",
       "      <th>2</th>\n",
       "      <td>0.971715</td>\n",
       "      <td>0.028285</td>\n",
       "    </tr>\n",
       "  </tbody>\n",
       "</table>\n",
       "</div>"
      ],
      "text/plain": [
       "churn                No       Yes\n",
       "contract_type                    \n",
       "0              0.572755  0.427245\n",
       "1              0.887534  0.112466\n",
       "2              0.971715  0.028285"
      ]
     },
     "execution_count": 86,
     "metadata": {},
     "output_type": "execute_result"
    }
   ],
   "source": [
    "pd.crosstab(tc.contract_type, tc.churn, normalize=\"index\")"
   ]
  },
  {
   "cell_type": "markdown",
   "id": "c3857289",
   "metadata": {},
   "source": [
    "### We also know customers who AUTOPAY are much more likely to stay with us"
   ]
  },
  {
   "cell_type": "code",
   "execution_count": 87,
   "id": "c6381542",
   "metadata": {},
   "outputs": [
    {
     "data": {
      "text/html": [
       "<div>\n",
       "<style scoped>\n",
       "    .dataframe tbody tr th:only-of-type {\n",
       "        vertical-align: middle;\n",
       "    }\n",
       "\n",
       "    .dataframe tbody tr th {\n",
       "        vertical-align: top;\n",
       "    }\n",
       "\n",
       "    .dataframe thead th {\n",
       "        text-align: right;\n",
       "    }\n",
       "</style>\n",
       "<table border=\"1\" class=\"dataframe\">\n",
       "  <thead>\n",
       "    <tr style=\"text-align: right;\">\n",
       "      <th>churn</th>\n",
       "      <th>No</th>\n",
       "      <th>Yes</th>\n",
       "    </tr>\n",
       "    <tr>\n",
       "      <th>payment_type</th>\n",
       "      <th></th>\n",
       "      <th></th>\n",
       "    </tr>\n",
       "  </thead>\n",
       "  <tbody>\n",
       "    <tr>\n",
       "      <th>Bank transfer (automatic)</th>\n",
       "      <td>0.832687</td>\n",
       "      <td>0.167313</td>\n",
       "    </tr>\n",
       "    <tr>\n",
       "      <th>Credit card (automatic)</th>\n",
       "      <td>0.847769</td>\n",
       "      <td>0.152231</td>\n",
       "    </tr>\n",
       "    <tr>\n",
       "      <th>Electronic check</th>\n",
       "      <td>0.547146</td>\n",
       "      <td>0.452854</td>\n",
       "    </tr>\n",
       "    <tr>\n",
       "      <th>Mailed check</th>\n",
       "      <td>0.808933</td>\n",
       "      <td>0.191067</td>\n",
       "    </tr>\n",
       "  </tbody>\n",
       "</table>\n",
       "</div>"
      ],
      "text/plain": [
       "churn                            No       Yes\n",
       "payment_type                                 \n",
       "Bank transfer (automatic)  0.832687  0.167313\n",
       "Credit card (automatic)    0.847769  0.152231\n",
       "Electronic check           0.547146  0.452854\n",
       "Mailed check               0.808933  0.191067"
      ]
     },
     "execution_count": 87,
     "metadata": {},
     "output_type": "execute_result"
    }
   ],
   "source": [
    "pd.crosstab(tc.payment_type, tc.churn, normalize=\"index\")"
   ]
  },
  {
   "cell_type": "code",
   "execution_count": 62,
   "id": "89643c07",
   "metadata": {},
   "outputs": [
    {
     "data": {
      "text/plain": [
       "1142"
      ]
     },
     "execution_count": 62,
     "metadata": {},
     "output_type": "execute_result"
    }
   ],
   "source": [
    "tc.is_senior_citizen.sum()\n"
   ]
  },
  {
   "cell_type": "markdown",
   "id": "871fb13e",
   "metadata": {},
   "source": [
    "Churn Vs. Gender "
   ]
  },
  {
   "cell_type": "code",
   "execution_count": 29,
   "id": "a9cf518d",
   "metadata": {},
   "outputs": [
    {
     "data": {
      "text/plain": [
       "<AxesSubplot:xlabel='gender'>"
      ]
     },
     "execution_count": 29,
     "metadata": {},
     "output_type": "execute_result"
    },
    {
     "data": {
      "image/png": "[encoded data removed]",
      "text/plain": [
       "<Figure size 432x288 with 1 Axes>"
      ]
     },
     "metadata": {
      "needs_background": "light"
     },
     "output_type": "display_data"
    }
   ],
   "source": [
    "pd.crosstab(tc.gender, tc.churn, normalize=\"index\").plot.bar()"
   ]
  },
  {
   "cell_type": "markdown",
   "id": "38da4c89",
   "metadata": {},
   "source": [
    "# START HERE"
   ]
  },
  {
   "cell_type": "markdown",
   "id": "ce802594",
   "metadata": {},
   "source": [
    "Like many of you, as I drive to work each day, I think about the TC business model. Who are we serving? Are we doing a good job? Yes, we want to make money, but also, how can we dig deep to create win-win situations? \n",
    "The data we are going to look at today is focused in on every business' model's objective: profitability. Like every businesses we continuously challenge ourselves to acquire new customers while retaining our customer base. \n",
    "Like myself, I know many people in this room have stared at these numbers. The angle I am going to pitch today is zeroeing in one, I would argue very special, subset of our customer base: \n",
    "senior citizens. "
   ]
  },
  {
   "cell_type": "markdown",
   "id": "56aa6453",
   "metadata": {},
   "source": [
    "What do we know about senior citizens? "
   ]
  },
  {
   "cell_type": "markdown",
   "id": "c1f48ab4",
   "metadata": {},
   "source": [
    "In the U.S. the population age 65 and older numbered 54.1 million in 2019\n",
    "(the most recent year for which data are available). They represented 16% of\n",
    "the population, more than one in every seven Americans. The number of older\n",
    "Americans has increased by 14.4 million (or 36%) since 2009, compared to an\n",
    "increase of 3% for the under-65 population."
   ]
  },
  {
   "cell_type": "markdown",
   "id": "0af4f296",
   "metadata": {},
   "source": [
    "https://acl.gov/sites/default/files/Aging%20and%20Disability%20in%20America/2020ProfileOlderAmericans.Final_.pdf"
   ]
  },
  {
   "cell_type": "markdown",
   "id": "45648fe5",
   "metadata": {},
   "source": [
    "Smartphone ownership among seniors varies substantially by age: 59% of 65- to 69-year-olds own smartphones, but that share falls to 49% among 70- to 74-year-olds. Smartphone adoption drops off considerably among adults in their mid-70s and beyond. Some 31% of 75- to 79-year-olds say they own smartphones, while only 17% of those ages 80 and older are smartphone owners."
   ]
  },
  {
   "cell_type": "markdown",
   "id": "85102cc9",
   "metadata": {},
   "source": [
    "https://www.pewresearch.org/internet/2017/05/17/technology-use-among-seniors/#:~:text=Smartphone%20ownership%20among%20seniors%20varies,their%20mid%2D70s%20and%20beyond."
   ]
  },
  {
   "cell_type": "markdown",
   "id": "abe456a6",
   "metadata": {},
   "source": [
    "Just 14% of adults over 65 have dumped their landlines, though"
   ]
  },
  {
   "cell_type": "markdown",
   "id": "f12c1c81",
   "metadata": {},
   "source": [
    "https://time.com/2966515/landline-phones-cell-phones/"
   ]
  },
  {
   "cell_type": "markdown",
   "id": "a5fc37b6",
   "metadata": {},
   "source": [
    "### We also know, with our current offerings, it is a demographic we are not attracting. "
   ]
  },
  {
   "cell_type": "code",
   "execution_count": 54,
   "id": "229b67dc",
   "metadata": {},
   "outputs": [
    {
     "data": {
      "text/plain": [
       "Text(0.5, 1.0, 'Senior Citizen Customers')"
      ]
     },
     "execution_count": 54,
     "metadata": {},
     "output_type": "execute_result"
    },
    {
     "data": {
      "image/png": "[encoded data removed]",
      "text/plain": [
       "<Figure size 432x288 with 1 Axes>"
      ]
     },
     "metadata": {
      "needs_background": "light"
     },
     "output_type": "display_data"
    }
   ],
   "source": [
    "sns.histplot(tc.is_senior_citizen)\n",
    "plt.title(\"Senior Citizen Customers\")"
   ]
  },
  {
   "cell_type": "markdown",
   "id": "dc57f61f",
   "metadata": {},
   "source": [
    "# I need to fix this chart somehow or add an annotation"
   ]
  },
  {
   "cell_type": "markdown",
   "id": "b9b92aed",
   "metadata": {},
   "source": [
    "### We also know, of the seniors we do have, many are leaving. . . "
   ]
  },
  {
   "cell_type": "code",
   "execution_count": 52,
   "id": "02f3cd14",
   "metadata": {},
   "outputs": [
    {
     "data": {
      "text/plain": [
       "<AxesSubplot:xlabel='is_senior_citizen'>"
      ]
     },
     "execution_count": 52,
     "metadata": {},
     "output_type": "execute_result"
    },
    {
     "data": {
      "image/png": "[encoded data removed]",
      "text/plain": [
       "<Figure size 432x288 with 1 Axes>"
      ]
     },
     "metadata": {
      "needs_background": "light"
     },
     "output_type": "display_data"
    }
   ],
   "source": [
    "pd.crosstab(tc.is_senior_citizen, tc.churn, normalize=\"index\").plot.bar()"
   ]
  },
  {
   "cell_type": "code",
   "execution_count": 68,
   "id": "83cb0683",
   "metadata": {},
   "outputs": [
    {
     "data": {
      "text/plain": [
       "1142"
      ]
     },
     "execution_count": 68,
     "metadata": {},
     "output_type": "execute_result"
    }
   ],
   "source": [
    "tc.is_senior_citizen.sum()"
   ]
  },
  {
   "cell_type": "markdown",
   "id": "a5fa0795",
   "metadata": {},
   "source": [
    "Step 1: Attracting them "
   ]
  },
  {
   "cell_type": "markdown",
   "id": "77c4fd4c",
   "metadata": {},
   "source": [
    "We already have one of the most reliable networks in the country. Let's talk about how we can use this, to keep our customers while (hopefully) attracting new customers "
   ]
  },
  {
   "cell_type": "markdown",
   "id": "a11b3c38",
   "metadata": {},
   "source": [
    "### Senior Friendly Phones "
   ]
  },
  {
   "cell_type": "markdown",
   "id": "2b387ab7",
   "metadata": {},
   "source": [
    "We already have an excellent product line of smart phones for our tech savvy seniors. I would also like to propose adding more senior-friendly phone options. We should offer rock bottom pricing for senior citizen customers who are willing to sign a 2 year contract with us. More than likely, the high tech seniors are also the younger seniors. If we can retain these customers, we can expect they will be with us for another 19 years. "
   ]
  },
  {
   "cell_type": "markdown",
   "id": "356d1211",
   "metadata": {},
   "source": [
    "To add an additional incentive we will offer a 5 dollar per line discount monthly for senior citizen customers who enroll in autopay. "
   ]
  },
  {
   "cell_type": "code",
   "execution_count": null,
   "id": "3853f6e8",
   "metadata": {},
   "outputs": [],
   "source": []
  }
 ],
 "metadata": {
  "kernelspec": {
   "display_name": "Python 3 (ipykernel)",
   "language": "python",
   "name": "python3"
  },
  "language_info": {
   "codemirror_mode": {
    "name": "ipython",
    "version": 3
   },
   "file_extension": ".py",
   "mimetype": "text/x-python",
   "name": "python",
   "nbconvert_exporter": "python",
   "pygments_lexer": "ipython3",
   "version": "3.9.7"
  }
 },
 "nbformat": 4,
 "nbformat_minor": 5
}
