{
 "cells": [
  {
   "cell_type": "markdown",
   "id": "780f5607",
   "metadata": {},
   "source": [
    "A panda series can be created in a variety of ways"
   ]
  },
  {
   "cell_type": "code",
   "execution_count": 7,
   "id": "32ee7d77",
   "metadata": {},
   "outputs": [],
   "source": [
    "import numpy as np "
   ]
  },
  {
   "cell_type": "code",
   "execution_count": 8,
   "id": "ef1ba2df",
   "metadata": {},
   "outputs": [],
   "source": [
    "import pandas as pd"
   ]
  },
  {
   "cell_type": "code",
   "execution_count": 9,
   "id": "9552fe24",
   "metadata": {},
   "outputs": [],
   "source": [
    "import matplotlib.pyplot as plt "
   ]
  },
  {
   "cell_type": "markdown",
   "id": "4ca1e65f",
   "metadata": {},
   "source": [
    "You can create a Panda SERIES with a python list or a numpy array "
   ]
  },
  {
   "cell_type": "code",
   "execution_count": 10,
   "id": "0ad94998",
   "metadata": {},
   "outputs": [],
   "source": [
    "numbers_series = pd.Series([100, 43, 26, 17, 17])"
   ]
  },
  {
   "cell_type": "code",
   "execution_count": 11,
   "id": "d7d918ce",
   "metadata": {},
   "outputs": [
    {
     "ename": "NameError",
     "evalue": "name 'pandas' is not defined",
     "output_type": "error",
     "traceback": [
      "\u001b[0;31m---------------------------------------------------------------------------\u001b[0m",
      "\u001b[0;31mNameError\u001b[0m                                 Traceback (most recent call last)",
      "\u001b[0;32m/var/folders/lt/mq77_h29005b8q_dkwt9pz000000gn/T/ipykernel_36451/2073515666.py\u001b[0m in \u001b[0;36m<module>\u001b[0;34m\u001b[0m\n\u001b[0;32m----> 1\u001b[0;31m \u001b[0mpandas\u001b[0m\u001b[0;34m.\u001b[0m\u001b[0mcore\u001b[0m\u001b[0;34m.\u001b[0m\u001b[0mseries\u001b[0m\u001b[0;34m.\u001b[0m\u001b[0mSeries\u001b[0m\u001b[0;34m\u001b[0m\u001b[0;34m\u001b[0m\u001b[0m\n\u001b[0m",
      "\u001b[0;31mNameError\u001b[0m: name 'pandas' is not defined"
     ]
    }
   ],
   "source": [
    "pandas.core.series.Series"
   ]
  },
  {
   "cell_type": "code",
   "execution_count": 12,
   "id": "c26a32ac",
   "metadata": {},
   "outputs": [
    {
     "data": {
      "text/plain": [
       "0    100\n",
       "1     43\n",
       "2     26\n",
       "3     17\n",
       "4     17\n",
       "dtype: int64"
      ]
     },
     "execution_count": 12,
     "metadata": {},
     "output_type": "execute_result"
    }
   ],
   "source": [
    "numbers_series"
   ]
  },
  {
   "cell_type": "markdown",
   "id": "1098748f",
   "metadata": {},
   "source": [
    "From a python directory "
   ]
  },
  {
   "cell_type": "code",
   "execution_count": 13,
   "id": "4e7bffe0",
   "metadata": {},
   "outputs": [],
   "source": [
    "labeled_series = pd.Series({'a': 0, 'b': 1.5, 'c': 2, 'd':3.5, 'e':4, 'f':5.5 })"
   ]
  },
  {
   "cell_type": "code",
   "execution_count": 14,
   "id": "bd967001",
   "metadata": {},
   "outputs": [
    {
     "data": {
      "text/plain": [
       "a    0.0\n",
       "b    1.5\n",
       "c    2.0\n",
       "d    3.5\n",
       "e    4.0\n",
       "f    5.5\n",
       "dtype: float64"
      ]
     },
     "execution_count": 14,
     "metadata": {},
     "output_type": "execute_result"
    }
   ],
   "source": [
    "labeled_series"
   ]
  },
  {
   "cell_type": "code",
   "execution_count": 15,
   "id": "c6a3ba05",
   "metadata": {},
   "outputs": [
    {
     "data": {
      "text/plain": [
       "0    101\n",
       "1     44\n",
       "2     27\n",
       "3     18\n",
       "4     18\n",
       "dtype: int64"
      ]
     },
     "execution_count": 15,
     "metadata": {},
     "output_type": "execute_result"
    }
   ],
   "source": [
    "numbers_series + 1"
   ]
  },
  {
   "cell_type": "code",
   "execution_count": 16,
   "id": "da362b4e",
   "metadata": {},
   "outputs": [
    {
     "data": {
      "text/plain": [
       "0     True\n",
       "1     True\n",
       "2    False\n",
       "3    False\n",
       "4    False\n",
       "dtype: bool"
      ]
     },
     "execution_count": 16,
     "metadata": {},
     "output_type": "execute_result"
    }
   ],
   "source": [
    "numbers_series > 40"
   ]
  },
  {
   "cell_type": "markdown",
   "id": "462de783",
   "metadata": {},
   "source": [
    "ATTRIBUTES "
   ]
  },
  {
   "cell_type": "code",
   "execution_count": null,
   "id": "59c812c0",
   "metadata": {},
   "outputs": [],
   "source": [
    ".index \n",
    "RangeIndex(start=0, stop=5, step=1)\n",
    ".values \n",
    "array([100, 43, 26, 17, 17])\n",
    ".dtype \n",
    "(int64)\n",
    ".name\n",
    "numbers_series.name = 'Numbers'\n",
    "numbers_series\n",
    "100 \n",
    "43\n",
    "26\n",
    "17\n",
    "17\n",
    ".size ***Null Values are included \n",
    "(5)\n",
    ".shape ***returns rows and columns for a dataframe, returns rows for series \n",
    "(5, 3)\n"
   ]
  },
  {
   "cell_type": "markdown",
   "id": "c7572a34",
   "metadata": {},
   "source": [
    "### Series Methods "
   ]
  },
  {
   "cell_type": "code",
   "execution_count": null,
   "id": "abac4069",
   "metadata": {},
   "outputs": [],
   "source": [
    ".head(n)\n",
    ".tail(n)\n",
    ".sample(n)\n",
    "returns a random sample \n",
    ".astype\n",
    "convert data types in a series \n",
    "num_strings = pd.Series([3, 4, 5, 6]).astype('str') ** or 'float' or 'int'\n",
    "num_strings \n",
    ".value_counts() ***(it groups and counts) see series control f value_counts \n",
    "if the original panda series had 4 a's would return '4'\n",
    ".describe \n",
    "*** returns a series of descriptive statistics \n",
    "****Descriptive Statistics Methods \n",
    ".count \n",
    ".sum \n",
    ".mean\n",
    ".median \n",
    ".min\n",
    ".max\n",
    ".mode\n",
    ".abs\n",
    ".std\n",
    ".quantile \n",
    ".nlargest\n",
    ".nsmallest\n",
    ".sort_values()\n",
    ".sort_values(ascending=False)"
   ]
  },
  {
   "cell_type": "markdown",
   "id": "f34ab449",
   "metadata": {},
   "source": [
    "## Indexing and Subsetting "
   ]
  },
  {
   "cell_type": "markdown",
   "id": "42eae20a",
   "metadata": {},
   "source": [
    "This is where Pandas index shines; we can select subsets of our data using index labels, index position, or boolean sequences \n",
    "\n"
   ]
  },
  {
   "cell_type": "code",
   "execution_count": 17,
   "id": "0be2db84",
   "metadata": {},
   "outputs": [
    {
     "data": {
      "text/plain": [
       "0    100\n",
       "1     43\n",
       "2     26\n",
       "3     17\n",
       "4     17\n",
       "dtype: int64"
      ]
     },
     "execution_count": 17,
     "metadata": {},
     "output_type": "execute_result"
    }
   ],
   "source": [
    "numbers_series"
   ]
  },
  {
   "cell_type": "code",
   "execution_count": 18,
   "id": "b271d78d",
   "metadata": {},
   "outputs": [],
   "source": [
    "bools = numbers_series > 40 "
   ]
  },
  {
   "cell_type": "code",
   "execution_count": 19,
   "id": "558357c3",
   "metadata": {},
   "outputs": [
    {
     "data": {
      "text/plain": [
       "0     True\n",
       "1     True\n",
       "2    False\n",
       "3    False\n",
       "4    False\n",
       "dtype: bool"
      ]
     },
     "execution_count": 19,
     "metadata": {},
     "output_type": "execute_result"
    }
   ],
   "source": [
    "bools"
   ]
  },
  {
   "cell_type": "code",
   "execution_count": 20,
   "id": "e44b2344",
   "metadata": {},
   "outputs": [
    {
     "data": {
      "text/plain": [
       "0    100\n",
       "1     43\n",
       "dtype: int64"
      ]
     },
     "execution_count": 20,
     "metadata": {},
     "output_type": "execute_result"
    }
   ],
   "source": [
    "numbers_series[bools]"
   ]
  },
  {
   "cell_type": "code",
   "execution_count": 21,
   "id": "3c485c38",
   "metadata": {},
   "outputs": [
    {
     "data": {
      "text/plain": [
       "0    100\n",
       "1     43\n",
       "dtype: int64"
      ]
     },
     "execution_count": 21,
     "metadata": {},
     "output_type": "execute_result"
    }
   ],
   "source": [
    "numbers_series[numbers_series > 40]"
   ]
  },
  {
   "cell_type": "code",
   "execution_count": null,
   "id": "89e85055",
   "metadata": {},
   "outputs": [],
   "source": [
    "# Find the numbers that are even or greater than 7 \n",
    "x[(x % 2 == 0) | (x > 7)]"
   ]
  },
  {
   "cell_type": "code",
   "execution_count": null,
   "id": "a2f37f58",
   "metadata": {},
   "outputs": [],
   "source": [
    "# Alternative syntax \n",
    "is_even = x % 2 == 0 \n",
    "greater_than_seven = x > 7\n",
    "x[is_even & greater_than_seven ]\n"
   ]
  },
  {
   "cell_type": "markdown",
   "id": "0e8e5a80",
   "metadata": {},
   "source": [
    "String Methods\n"
   ]
  },
  {
   "cell_type": "code",
   "execution_count": 23,
   "id": "73279f20",
   "metadata": {},
   "outputs": [],
   "source": [
    "string_series.str.lower()"
   ]
  },
  {
   "cell_type": "code",
   "execution_count": null,
   "id": "3b0d9020",
   "metadata": {},
   "outputs": [],
   "source": [
    "string_series.str.replace('e', '_')"
   ]
  },
  {
   "cell_type": "code",
   "execution_count": null,
   "id": "4b88e93e",
   "metadata": {},
   "outputs": [],
   "source": [
    "string_series.str.lower().str.replace(\"$\", \"\")"
   ]
  },
  {
   "cell_type": "code",
   "execution_count": null,
   "id": "b0078502",
   "metadata": {},
   "outputs": [],
   "source": [
    "#Method Chaining with indexing \n",
    "string_series[string_series.str.lower().str.startswith('h')]"
   ]
  },
  {
   "cell_type": "code",
   "execution_count": null,
   "id": "c1578129",
   "metadata": {},
   "outputs": [],
   "source": [
    "(numbers_series < 0).any() ** these return True or False "
   ]
  },
  {
   "cell_type": "code",
   "execution_count": null,
   "id": "67650df3",
   "metadata": {},
   "outputs": [],
   "source": [
    "(numbers_series < 0).all() ** these return True or False "
   ]
  },
  {
   "cell_type": "code",
   "execution_count": null,
   "id": "cabaf143",
   "metadata": {},
   "outputs": [],
   "source": [
    ".isin"
   ]
  },
  {
   "cell_type": "code",
   "execution_count": 24,
   "id": "d44bbb08",
   "metadata": {},
   "outputs": [
    {
     "data": {
      "text/plain": [
       "['a', 'e', 'i', 'o', 'u']"
      ]
     },
     "execution_count": 24,
     "metadata": {},
     "output_type": "execute_result"
    }
   ],
   "source": [
    "vowels = list('aeiou')\n",
    "vowels"
   ]
  },
  {
   "cell_type": "code",
   "execution_count": null,
   "id": "1c9c57af",
   "metadata": {},
   "outputs": [],
   "source": []
  },
  {
   "cell_type": "code",
   "execution_count": 25,
   "id": "a98901f2",
   "metadata": {},
   "outputs": [
    {
     "data": {
      "text/plain": [
       "['a', 'b', 'c', 'd', 'e', 'f', 'g', 'h', 'i', 'j', 'k']"
      ]
     },
     "execution_count": 25,
     "metadata": {},
     "output_type": "execute_result"
    }
   ],
   "source": [
    "letters = list('abcdefghijk')\n",
    "letters"
   ]
  },
  {
   "cell_type": "code",
   "execution_count": 26,
   "id": "7928e6c0",
   "metadata": {},
   "outputs": [
    {
     "data": {
      "text/plain": [
       "0     a\n",
       "1     b\n",
       "2     c\n",
       "3     d\n",
       "4     e\n",
       "5     f\n",
       "6     g\n",
       "7     h\n",
       "8     i\n",
       "9     j\n",
       "10    k\n",
       "dtype: object"
      ]
     },
     "execution_count": 26,
     "metadata": {},
     "output_type": "execute_result"
    }
   ],
   "source": [
    "letters_series = pd.Series(letters)\n",
    "letters_series"
   ]
  },
  {
   "cell_type": "code",
   "execution_count": 27,
   "id": "f60f8ec6",
   "metadata": {},
   "outputs": [
    {
     "data": {
      "text/plain": [
       "0      True\n",
       "1     False\n",
       "2     False\n",
       "3     False\n",
       "4      True\n",
       "5     False\n",
       "6     False\n",
       "7     False\n",
       "8      True\n",
       "9     False\n",
       "10    False\n",
       "dtype: bool"
      ]
     },
     "execution_count": 27,
     "metadata": {},
     "output_type": "execute_result"
    }
   ],
   "source": [
    "letters_series.isin(vowels)"
   ]
  },
  {
   "cell_type": "code",
   "execution_count": 28,
   "id": "89a4d120",
   "metadata": {},
   "outputs": [
    {
     "data": {
      "text/plain": [
       "0    a\n",
       "4    e\n",
       "8    i\n",
       "dtype: object"
      ]
     },
     "execution_count": 28,
     "metadata": {},
     "output_type": "execute_result"
    }
   ],
   "source": [
    "letters_series[letters_series.isin(vowels)]"
   ]
  },
  {
   "cell_type": "code",
   "execution_count": null,
   "id": "92edc387",
   "metadata": {},
   "outputs": [],
   "source": [
    ".apply "
   ]
  },
  {
   "cell_type": "code",
   "execution_count": null,
   "id": "351b0a16",
   "metadata": {},
   "outputs": [],
   "source": [
    "#Find out if it is EVEN or ODD "
   ]
  },
  {
   "cell_type": "code",
   "execution_count": null,
   "id": "b0cab366",
   "metadata": {},
   "outputs": [],
   "source": [
    "numbers_series.apply(lambda n: 'even' if n % 2 == 0 else 'odd')"
   ]
  },
  {
   "cell_type": "markdown",
   "id": "e227af30",
   "metadata": {},
   "source": [
    "##  Binning Data"
   ]
  },
  {
   "cell_type": "code",
   "execution_count": 30,
   "id": "5ce48136",
   "metadata": {},
   "outputs": [
    {
     "data": {
      "text/plain": [
       "0      0\n",
       "1      1\n",
       "2      2\n",
       "3      3\n",
       "4      4\n",
       "5      5\n",
       "6      6\n",
       "7      7\n",
       "8      8\n",
       "9      9\n",
       "10    10\n",
       "11    11\n",
       "12    12\n",
       "13    13\n",
       "14    14\n",
       "dtype: int64"
      ]
     },
     "execution_count": 30,
     "metadata": {},
     "output_type": "execute_result"
    }
   ],
   "source": [
    "s = pd.Series(list(range(15)))\n",
    "s"
   ]
  },
  {
   "cell_type": "code",
   "execution_count": 32,
   "id": "36e92dfb",
   "metadata": {},
   "outputs": [
    {
     "data": {
      "text/plain": [
       "0     (-0.014, 4.667]\n",
       "1     (-0.014, 4.667]\n",
       "2     (-0.014, 4.667]\n",
       "3     (-0.014, 4.667]\n",
       "4     (-0.014, 4.667]\n",
       "5      (4.667, 9.333]\n",
       "6      (4.667, 9.333]\n",
       "7      (4.667, 9.333]\n",
       "8      (4.667, 9.333]\n",
       "9      (4.667, 9.333]\n",
       "10      (9.333, 14.0]\n",
       "11      (9.333, 14.0]\n",
       "12      (9.333, 14.0]\n",
       "13      (9.333, 14.0]\n",
       "14      (9.333, 14.0]\n",
       "dtype: category\n",
       "Categories (3, interval[float64, right]): [(-0.014, 4.667] < (4.667, 9.333] < (9.333, 14.0]]"
      ]
     },
     "execution_count": 32,
     "metadata": {},
     "output_type": "execute_result"
    }
   ],
   "source": [
    "#pd.cut(s, bins=n) You can pass a number and it will cut the bin into 3 equal parts or \n",
    "#pass a list in to specify where you want the boundaries of your list \n",
    "pd.cut(s, 3)"
   ]
  },
  {
   "cell_type": "code",
   "execution_count": 33,
   "id": "3ce7c645",
   "metadata": {},
   "outputs": [
    {
     "data": {
      "text/plain": [
       "(-0.014, 4.667]    5\n",
       "(4.667, 9.333]     5\n",
       "(9.333, 14.0]      5\n",
       "dtype: int64"
      ]
     },
     "execution_count": 33,
     "metadata": {},
     "output_type": "execute_result"
    }
   ],
   "source": [
    "# How many values fall into each bin? \n",
    "pd.cut(s, 3).value_counts()"
   ]
  },
  {
   "cell_type": "code",
   "execution_count": null,
   "id": "e7c367f4",
   "metadata": {},
   "outputs": [],
   "source": [
    "#to group the data and return aggregate sum \n",
    "s.value_counts(bins=3)"
   ]
  },
  {
   "cell_type": "code",
   "execution_count": null,
   "id": "e52a8c62",
   "metadata": {},
   "outputs": [],
   "source": [
    ".plot()"
   ]
  },
  {
   "cell_type": "code",
   "execution_count": 35,
   "id": "1ef8e0d0",
   "metadata": {},
   "outputs": [],
   "source": [
    "#number_series.plot()\n",
    "#plt.show()\n",
    "# control F plotting data "
   ]
  },
  {
   "cell_type": "markdown",
   "id": "be87fcba",
   "metadata": {},
   "source": [
    "## Summarizing dataframes "
   ]
  },
  {
   "cell_type": "code",
   "execution_count": null,
   "id": "cbf06075",
   "metadata": {},
   "outputs": [],
   "source": [
    ".info()\n",
    ".describe()\n",
    ".dtypes()\n",
    ".shape()\n",
    ".columns()\n",
    ".index()"
   ]
  },
  {
   "cell_type": "markdown",
   "id": "39b3c4bc",
   "metadata": {},
   "source": [
    "Subsetting Dataframes "
   ]
  },
  {
   "cell_type": "code",
   "execution_count": null,
   "id": "396e3fec",
   "metadata": {},
   "outputs": [],
   "source": [
    "#accessing multiple columns \n",
    "df[['name', 'math']]\n",
    "#accessing individual columns \n",
    "df.math\n",
    "#accessing row subsets \n",
    "df.head\n",
    "df.tail\n",
    "df.sample\n",
    "df.math < 80 ***returns boolean \n",
    "df[df.math < 80] *** this will return the actual rows where it is True \n",
    "df.drop(columns=['english', 'reading'])\n",
    "df.rename(columns={'name': 'stuent'}) ***replaced name with student \n"
   ]
  },
  {
   "cell_type": "markdown",
   "id": "9434f8f6",
   "metadata": {},
   "source": [
    "Creating New Columns "
   ]
  },
  {
   "cell_type": "code",
   "execution_count": 37,
   "id": "09eadba4",
   "metadata": {},
   "outputs": [],
   "source": [
    "df['passing_math'] = df.math > 70 \n",
    "#Create a new column 'passing math' returns boolean "
   ]
  },
  {
   "cell_type": "code",
   "execution_count": null,
   "id": "9ad1a3c5",
   "metadata": {},
   "outputs": [],
   "source": [
    "df.sort_values(by='english')\n",
    "#will return dataframe back with english grades lowest to highest\n",
    "df.sort_values(by='english', ascending=False)"
   ]
  },
  {
   "cell_type": "markdown",
   "id": "e5005390",
   "metadata": {},
   "source": [
    "Chaining Dataframe Methods "
   ]
  },
  {
   "cell_type": "code",
   "execution_count": null,
   "id": "ca6c91ce",
   "metadata": {},
   "outputs": [],
   "source": [
    "df[df.english > 90].sort_values(by= 'english').head(1).name"
   ]
  },
  {
   "cell_type": "code",
   "execution_count": null,
   "id": "6a5712ff",
   "metadata": {},
   "outputs": [],
   "source": [
    "bools = df.name.str.startswith('A')\n",
    "bools\n",
    "## will return a list of false and true statements\n",
    "df[bools]\n",
    "##will return the actual rows that fit 'True '"
   ]
  },
  {
   "cell_type": "code",
   "execution_count": null,
   "id": "7ed2a162",
   "metadata": {},
   "outputs": [],
   "source": [
    "#choose all the rows and a subset of columns, in this case math and reading\n",
    "df.loc[:, 'math': 'reading']"
   ]
  },
  {
   "cell_type": "code",
   "execution_count": null,
   "id": "aa575d93",
   "metadata": {},
   "outputs": [],
   "source": [
    "#You can also use a boolean Series as a selector \n",
    "df.loc[bools, 'name': 'reading']"
   ]
  },
  {
   "cell_type": "code",
   "execution_count": null,
   "id": "e4af4df3",
   "metadata": {},
   "outputs": [],
   "source": [
    "df.iloc[:3, 1:3]"
   ]
  },
  {
   "cell_type": "markdown",
   "id": "4f42a075",
   "metadata": {},
   "source": [
    "Aggregating"
   ]
  },
  {
   "cell_type": "code",
   "execution_count": null,
   "id": "2743583a",
   "metadata": {},
   "outputs": [],
   "source": [
    "df.reading.agg('min')\n",
    "#returns min reading grade "
   ]
  },
  {
   "cell_type": "code",
   "execution_count": null,
   "id": "697c3b47",
   "metadata": {},
   "outputs": [],
   "source": [
    "df[['english', 'reading', 'math']].agg(['mean', 'min', 'max'])\n",
    "#returns mean, min, max of english, reading and math columns "
   ]
  },
  {
   "cell_type": "code",
   "execution_count": null,
   "id": "354ae855",
   "metadata": {},
   "outputs": [],
   "source": [
    "df.groupby('column').math.max()\n",
    "df.groupby('column').math.agg(['min', 'max', 'mean'])"
   ]
  },
  {
   "cell_type": "code",
   "execution_count": null,
   "id": "92a4517e",
   "metadata": {},
   "outputs": [],
   "source": [
    "np.where(condition, this_where_true, this_where_false)\n",
    "#Create a New column based on existing column, column returns failing if student is under 70, or passing \n",
    "df['passing_math'] = np.where(df.math < 70, 'failing', 'passing')"
   ]
  },
  {
   "cell_type": "markdown",
   "id": "ff1127dd",
   "metadata": {},
   "source": [
    "## Transform"
   ]
  },
  {
   "cell_type": "markdown",
   "id": "e433e113",
   "metadata": {},
   "source": [
    "The .transform method can be used to produce a series with the same length of the original dataframe where each value represents the aggregation from the subgroup resulting from the .groupby"
   ]
  },
  {
   "cell_type": "markdown",
   "id": "4a32affe",
   "metadata": {},
   "source": [
    "## Concat"
   ]
  },
  {
   "cell_type": "markdown",
   "id": "bf371f01",
   "metadata": {},
   "source": [
    "This function takes in a list or dictionary of Series or DataFrame objects and joins them along a particular axis, row-wise axis=0 or column-wise axis =1"
   ]
  },
  {
   "cell_type": "code",
   "execution_count": null,
   "id": "e6dacd71",
   "metadata": {},
   "outputs": [],
   "source": [
    "pd.concat([df1, df2], axis=0)"
   ]
  },
  {
   "cell_type": "code",
   "execution_count": null,
   "id": "e100bb09",
   "metadata": {},
   "outputs": [],
   "source": [
    "#commonly used parameters \n",
    "left_df.merge(right_df, how='inner', on=None, left_on=None, right_on=None, left_index=False, right_index=False, indicator=False)\n"
   ]
  },
  {
   "cell_type": "markdown",
   "id": "1f13e48c",
   "metadata": {},
   "source": [
    "## Reshaping"
   ]
  },
  {
   "cell_type": "code",
   "execution_count": null,
   "id": "045c63f3",
   "metadata": {},
   "outputs": [],
   "source": [
    "Common operations that can be used to summarize data by different subgroups "
   ]
  },
  {
   "cell_type": "code",
   "execution_count": null,
   "id": "b4185d86",
   "metadata": {},
   "outputs": [],
   "source": [
    "pd.crosstab(df.passing_math, df.classroom)\n",
    "#classroom is moved from a column to a row header and separated by a and b\n",
    "#passing_math is converted into two rows 'failing' and 'passing'\n",
    "#if you want to see subtotals you set margins=True"
   ]
  },
  {
   "cell_type": "code",
   "execution_count": null,
   "id": "88452e29",
   "metadata": {},
   "outputs": [],
   "source": [
    ".pivot_table \n",
    "df.pivot_table(index= which_values_you_want_in_rows, columns = 'which_values_you_want_columns', values = 'values_we_are_aggregating')"
   ]
  },
  {
   "cell_type": "code",
   "execution_count": null,
   "id": "8d7a3a43",
   "metadata": {},
   "outputs": [],
   "source": []
  },
  {
   "cell_type": "code",
   "execution_count": 39,
   "id": "e465bd3a",
   "metadata": {},
   "outputs": [],
   "source": [
    "Bakery = [\"Sunday\", \"Monday\", \"Tuesday\"], [\"Concha\", \"Sopapilla\"]\n"
   ]
  },
  {
   "cell_type": "code",
   "execution_count": 40,
   "id": "aba1a75f",
   "metadata": {},
   "outputs": [],
   "source": [
    "b = pd.Series(Bakery)"
   ]
  },
  {
   "cell_type": "code",
   "execution_count": 41,
   "id": "8c8016c2",
   "metadata": {},
   "outputs": [
    {
     "data": {
      "text/plain": [
       "0    [Sunday, Monday, Tuesday]\n",
       "1          [Concha, Sopapilla]\n",
       "dtype: object"
      ]
     },
     "execution_count": 41,
     "metadata": {},
     "output_type": "execute_result"
    }
   ],
   "source": [
    "b"
   ]
  },
  {
   "cell_type": "code",
   "execution_count": 44,
   "id": "c12a9bb3",
   "metadata": {},
   "outputs": [
    {
     "ename": "AttributeError",
     "evalue": "'Series' object has no attribute 'assign'",
     "output_type": "error",
     "traceback": [
      "\u001b[0;31m---------------------------------------------------------------------------\u001b[0m",
      "\u001b[0;31mAttributeError\u001b[0m                            Traceback (most recent call last)",
      "\u001b[0;32m/var/folders/lt/mq77_h29005b8q_dkwt9pz000000gn/T/ipykernel_36451/296016120.py\u001b[0m in \u001b[0;36m<module>\u001b[0;34m\u001b[0m\n\u001b[0;32m----> 1\u001b[0;31m \u001b[0mb\u001b[0m\u001b[0;34m.\u001b[0m\u001b[0massign\u001b[0m\u001b[0;34m(\u001b[0m\u001b[0mdiff_days\u001b[0m\u001b[0;34m=\u001b[0m\u001b[0mb\u001b[0m\u001b[0;34m.\u001b[0m\u001b[0mgroupby\u001b[0m\u001b[0;34m(\u001b[0m\u001b[0;34m'day'\u001b[0m\u001b[0;34m)\u001b[0m\u001b[0;34m.\u001b[0m\u001b[0mmath\u001b[0m\u001b[0;34m.\u001b[0m\u001b[0mtransform\u001b[0m\u001b[0;34m(\u001b[0m\u001b[0;34m'sum'\u001b[0m\u001b[0;34m)\u001b[0m\u001b[0;34m)\u001b[0m\u001b[0;34m\u001b[0m\u001b[0;34m\u001b[0m\u001b[0m\n\u001b[0m",
      "\u001b[0;32m/usr/local/anaconda3/lib/python3.9/site-packages/pandas/core/generic.py\u001b[0m in \u001b[0;36m__getattr__\u001b[0;34m(self, name)\u001b[0m\n\u001b[1;32m   5485\u001b[0m         ):\n\u001b[1;32m   5486\u001b[0m             \u001b[0;32mreturn\u001b[0m \u001b[0mself\u001b[0m\u001b[0;34m[\u001b[0m\u001b[0mname\u001b[0m\u001b[0;34m]\u001b[0m\u001b[0;34m\u001b[0m\u001b[0;34m\u001b[0m\u001b[0m\n\u001b[0;32m-> 5487\u001b[0;31m         \u001b[0;32mreturn\u001b[0m \u001b[0mobject\u001b[0m\u001b[0;34m.\u001b[0m\u001b[0m__getattribute__\u001b[0m\u001b[0;34m(\u001b[0m\u001b[0mself\u001b[0m\u001b[0;34m,\u001b[0m \u001b[0mname\u001b[0m\u001b[0;34m)\u001b[0m\u001b[0;34m\u001b[0m\u001b[0;34m\u001b[0m\u001b[0m\n\u001b[0m\u001b[1;32m   5488\u001b[0m \u001b[0;34m\u001b[0m\u001b[0m\n\u001b[1;32m   5489\u001b[0m     \u001b[0;32mdef\u001b[0m \u001b[0m__setattr__\u001b[0m\u001b[0;34m(\u001b[0m\u001b[0mself\u001b[0m\u001b[0;34m,\u001b[0m \u001b[0mname\u001b[0m\u001b[0;34m:\u001b[0m \u001b[0mstr\u001b[0m\u001b[0;34m,\u001b[0m \u001b[0mvalue\u001b[0m\u001b[0;34m)\u001b[0m \u001b[0;34m->\u001b[0m \u001b[0;32mNone\u001b[0m\u001b[0;34m:\u001b[0m\u001b[0;34m\u001b[0m\u001b[0;34m\u001b[0m\u001b[0m\n",
      "\u001b[0;31mAttributeError\u001b[0m: 'Series' object has no attribute 'assign'"
     ]
    }
   ],
   "source": [
    "b.assign(diff_days=b.groupby('day').math.transform('sum'))"
   ]
  },
  {
   "cell_type": "code",
   "execution_count": null,
   "id": "ade5a832",
   "metadata": {},
   "outputs": [],
   "source": []
  }
 ],
 "metadata": {
  "kernelspec": {
   "display_name": "Python 3 (ipykernel)",
   "language": "python",
   "name": "python3"
  },
  "language_info": {
   "codemirror_mode": {
    "name": "ipython",
    "version": 3
   },
   "file_extension": ".py",
   "mimetype": "text/x-python",
   "name": "python",
   "nbconvert_exporter": "python",
   "pygments_lexer": "ipython3",
   "version": "3.9.7"
  }
 },
 "nbformat": 4,
 "nbformat_minor": 5
}
