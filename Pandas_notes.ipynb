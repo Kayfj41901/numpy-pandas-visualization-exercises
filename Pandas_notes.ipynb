{
 "cells": [
  {
   "cell_type": "markdown",
   "id": "5dcbafa0",
   "metadata": {},
   "source": [
    "A panda series can be created in a variety of ways"
   ]
  },
  {
   "cell_type": "code",
   "execution_count": 7,
   "id": "2a6a3cb1",
   "metadata": {},
   "outputs": [],
   "source": [
    "import numpy as np "
   ]
  },
  {
   "cell_type": "code",
   "execution_count": 8,
   "id": "8336bd6b",
   "metadata": {},
   "outputs": [],
   "source": [
    "import pandas as pd"
   ]
  },
  {
   "cell_type": "code",
   "execution_count": 9,
   "id": "3e512ccf",
   "metadata": {},
   "outputs": [],
   "source": [
    "import matplotlib.pyplot as plt "
   ]
  },
  {
   "cell_type": "markdown",
   "id": "482b9efe",
   "metadata": {},
   "source": [
    "You can create a Panda SERIES with a python list or a numpy array "
   ]
  },
  {
   "cell_type": "code",
   "execution_count": 10,
   "id": "6f25c620",
   "metadata": {},
   "outputs": [],
   "source": [
    "numbers_series = pd.Series([100, 43, 26, 17, 17])"
   ]
  },
  {
   "cell_type": "code",
   "execution_count": 11,
   "id": "9af9b21e",
   "metadata": {},
   "outputs": [
    {
     "ename": "NameError",
     "evalue": "name 'pandas' is not defined",
     "output_type": "error",
     "traceback": [
      "\u001b[0;31m---------------------------------------------------------------------------\u001b[0m",
      "\u001b[0;31mNameError\u001b[0m                                 Traceback (most recent call last)",
      "\u001b[0;32m/var/folders/lt/mq77_h29005b8q_dkwt9pz000000gn/T/ipykernel_36451/2073515666.py\u001b[0m in \u001b[0;36m<module>\u001b[0;34m\u001b[0m\n\u001b[0;32m----> 1\u001b[0;31m \u001b[0mpandas\u001b[0m\u001b[0;34m.\u001b[0m\u001b[0mcore\u001b[0m\u001b[0;34m.\u001b[0m\u001b[0mseries\u001b[0m\u001b[0;34m.\u001b[0m\u001b[0mSeries\u001b[0m\u001b[0;34m\u001b[0m\u001b[0;34m\u001b[0m\u001b[0m\n\u001b[0m",
      "\u001b[0;31mNameError\u001b[0m: name 'pandas' is not defined"
     ]
    }
   ],
   "source": [
    "pandas.core.series.Series"
   ]
  },
  {
   "cell_type": "code",
   "execution_count": 12,
   "id": "19004167",
   "metadata": {},
   "outputs": [
    {
     "data": {
      "text/plain": [
       "0    100\n",
       "1     43\n",
       "2     26\n",
       "3     17\n",
       "4     17\n",
       "dtype: int64"
      ]
     },
     "execution_count": 12,
     "metadata": {},
     "output_type": "execute_result"
    }
   ],
   "source": [
    "numbers_series"
   ]
  },
  {
   "cell_type": "markdown",
   "id": "87c686a6",
   "metadata": {},
   "source": [
    "From a python directory "
   ]
  },
  {
   "cell_type": "code",
   "execution_count": 13,
   "id": "325fda33",
   "metadata": {},
   "outputs": [],
   "source": [
    "labeled_series = pd.Series({'a': 0, 'b': 1.5, 'c': 2, 'd':3.5, 'e':4, 'f':5.5 })"
   ]
  },
  {
   "cell_type": "code",
   "execution_count": 14,
   "id": "8dd273a3",
   "metadata": {},
   "outputs": [
    {
     "data": {
      "text/plain": [
       "a    0.0\n",
       "b    1.5\n",
       "c    2.0\n",
       "d    3.5\n",
       "e    4.0\n",
       "f    5.5\n",
       "dtype: float64"
      ]
     },
     "execution_count": 14,
     "metadata": {},
     "output_type": "execute_result"
    }
   ],
   "source": [
    "labeled_series"
   ]
  },
  {
   "cell_type": "code",
   "execution_count": 15,
   "id": "3f23dbef",
   "metadata": {},
   "outputs": [
    {
     "data": {
      "text/plain": [
       "0    101\n",
       "1     44\n",
       "2     27\n",
       "3     18\n",
       "4     18\n",
       "dtype: int64"
      ]
     },
     "execution_count": 15,
     "metadata": {},
     "output_type": "execute_result"
    }
   ],
   "source": [
    "numbers_series + 1"
   ]
  },
  {
   "cell_type": "code",
   "execution_count": 16,
   "id": "ba1c6f17",
   "metadata": {},
   "outputs": [
    {
     "data": {
      "text/plain": [
       "0     True\n",
       "1     True\n",
       "2    False\n",
       "3    False\n",
       "4    False\n",
       "dtype: bool"
      ]
     },
     "execution_count": 16,
     "metadata": {},
     "output_type": "execute_result"
    }
   ],
   "source": [
    "numbers_series > 40"
   ]
  },
  {
   "cell_type": "markdown",
   "id": "b1cf8ca4",
   "metadata": {},
   "source": [
    "ATTRIBUTES "
   ]
  },
  {
   "cell_type": "code",
   "execution_count": null,
   "id": "326fde3f",
   "metadata": {},
   "outputs": [],
   "source": [
    ".index \n",
    "RangeIndex(start=0, stop=5, step=1)\n",
    ".values \n",
    "array([100, 43, 26, 17, 17])\n",
    ".dtype \n",
    "(int64)\n",
    ".name\n",
    "numbers_series.name = 'Numbers'\n",
    "numbers_series\n",
    "100 \n",
    "43\n",
    "26\n",
    "17\n",
    "17\n",
    ".size ***Null Values are included \n",
    "(5)\n",
    ".shape ***returns rows and columns for a dataframe, returns rows for series \n",
    "(5, 3)\n"
   ]
  },
  {
   "cell_type": "markdown",
   "id": "950d7403",
   "metadata": {},
   "source": [
    "### Series Methods "
   ]
  },
  {
   "cell_type": "code",
   "execution_count": null,
   "id": "d6df0774",
   "metadata": {},
   "outputs": [],
   "source": [
    ".head(n)\n",
    ".tail(n)\n",
    ".sample(n)\n",
    "returns a random sample \n",
    ".astype\n",
    "convert data types in a series \n",
    "num_strings = pd.Series([3, 4, 5, 6]).astype('str') ** or 'float' or 'int'\n",
    "num_strings \n",
    ".value_counts() ***(it groups and counts) see series control f value_counts \n",
    "if the original panda series had 4 a's would return '4'\n",
    ".describe \n",
    "*** returns a series of descriptive statistics \n",
    "****Descriptive Statistics Methods \n",
    ".count \n",
    ".sum \n",
    ".mean\n",
    ".median \n",
    ".min\n",
    ".max\n",
    ".mode\n",
    ".abs\n",
    ".std\n",
    ".quantile \n",
    ".nlargest\n",
    ".nsmallest\n",
    ".sort_values()\n",
    ".sort_values(ascending=False)"
   ]
  },
  {
   "cell_type": "markdown",
   "id": "06b9b886",
   "metadata": {},
   "source": [
    "## Indexing and Subsetting "
   ]
  },
  {
   "cell_type": "markdown",
   "id": "aef249f7",
   "metadata": {},
   "source": [
    "This is where Pandas index shines; we can select subsets of our data using index labels, index position, or boolean sequences \n",
    "\n"
   ]
  },
  {
   "cell_type": "code",
   "execution_count": 17,
   "id": "fbfd48c1",
   "metadata": {},
   "outputs": [
    {
     "data": {
      "text/plain": [
       "0    100\n",
       "1     43\n",
       "2     26\n",
       "3     17\n",
       "4     17\n",
       "dtype: int64"
      ]
     },
     "execution_count": 17,
     "metadata": {},
     "output_type": "execute_result"
    }
   ],
   "source": [
    "numbers_series"
   ]
  },
  {
   "cell_type": "code",
   "execution_count": 18,
   "id": "6bfa4dee",
   "metadata": {},
   "outputs": [],
   "source": [
    "bools = numbers_series > 40 "
   ]
  },
  {
   "cell_type": "code",
   "execution_count": 19,
   "id": "d2767ee1",
   "metadata": {},
   "outputs": [
    {
     "data": {
      "text/plain": [
       "0     True\n",
       "1     True\n",
       "2    False\n",
       "3    False\n",
       "4    False\n",
       "dtype: bool"
      ]
     },
     "execution_count": 19,
     "metadata": {},
     "output_type": "execute_result"
    }
   ],
   "source": [
    "bools"
   ]
  },
  {
   "cell_type": "code",
   "execution_count": 20,
   "id": "1b920162",
   "metadata": {},
   "outputs": [
    {
     "data": {
      "text/plain": [
       "0    100\n",
       "1     43\n",
       "dtype: int64"
      ]
     },
     "execution_count": 20,
     "metadata": {},
     "output_type": "execute_result"
    }
   ],
   "source": [
    "numbers_series[bools]"
   ]
  },
  {
   "cell_type": "code",
   "execution_count": 21,
   "id": "183a79f9",
   "metadata": {},
   "outputs": [
    {
     "data": {
      "text/plain": [
       "0    100\n",
       "1     43\n",
       "dtype: int64"
      ]
     },
     "execution_count": 21,
     "metadata": {},
     "output_type": "execute_result"
    }
   ],
   "source": [
    "numbers_series[numbers_series > 40]"
   ]
  },
  {
   "cell_type": "code",
   "execution_count": null,
   "id": "cfea6b86",
   "metadata": {},
   "outputs": [],
   "source": [
    "# Find the numbers that are even or greater than 7 \n",
    "x[(x % 2 == 0) | (x > 7)]"
   ]
  },
  {
   "cell_type": "code",
   "execution_count": null,
   "id": "52fe2770",
   "metadata": {},
   "outputs": [],
   "source": [
    "# Alternative syntax \n",
    "is_even = x % 2 == 0 \n",
    "greater_than_seven = x > 7\n",
    "x[is_even & greater_than_seven ]\n"
   ]
  },
  {
   "cell_type": "markdown",
   "id": "7be93636",
   "metadata": {},
   "source": [
    "String Methods\n"
   ]
  },
  {
   "cell_type": "code",
   "execution_count": 23,
   "id": "b8fa8f8d",
   "metadata": {},
   "outputs": [],
   "source": [
    "string_series.str.lower()"
   ]
  },
  {
   "cell_type": "code",
   "execution_count": null,
   "id": "abe04ec7",
   "metadata": {},
   "outputs": [],
   "source": [
    "string_series.str.replace('e', '_')"
   ]
  },
  {
   "cell_type": "code",
   "execution_count": null,
   "id": "59b5a560",
   "metadata": {},
   "outputs": [],
   "source": [
    "string_series.str.lower().str.replace(\"$\", \"\")"
   ]
  },
  {
   "cell_type": "code",
   "execution_count": null,
   "id": "60a35cf1",
   "metadata": {},
   "outputs": [],
   "source": [
    "#Method Chaining with indexing \n",
    "string_series[string_series.str.lower().str.startswith('h')]"
   ]
  },
  {
   "cell_type": "code",
   "execution_count": null,
   "id": "25ad2efb",
   "metadata": {},
   "outputs": [],
   "source": [
    "(numbers_series < 0).any() ** these return True or False "
   ]
  },
  {
   "cell_type": "code",
   "execution_count": null,
   "id": "4828cbe7",
   "metadata": {},
   "outputs": [],
   "source": [
    "(numbers_series < 0).all() ** these return True or False "
   ]
  },
  {
   "cell_type": "code",
   "execution_count": null,
   "id": "b150712c",
   "metadata": {},
   "outputs": [],
   "source": [
    ".isin"
   ]
  },
  {
   "cell_type": "code",
   "execution_count": 24,
   "id": "15408f71",
   "metadata": {},
   "outputs": [
    {
     "data": {
      "text/plain": [
       "['a', 'e', 'i', 'o', 'u']"
      ]
     },
     "execution_count": 24,
     "metadata": {},
     "output_type": "execute_result"
    }
   ],
   "source": [
    "vowels = list('aeiou')\n",
    "vowels"
   ]
  },
  {
   "cell_type": "code",
   "execution_count": null,
   "id": "0242895e",
   "metadata": {},
   "outputs": [],
   "source": []
  },
  {
   "cell_type": "code",
   "execution_count": 25,
   "id": "5f1a2037",
   "metadata": {},
   "outputs": [
    {
     "data": {
      "text/plain": [
       "['a', 'b', 'c', 'd', 'e', 'f', 'g', 'h', 'i', 'j', 'k']"
      ]
     },
     "execution_count": 25,
     "metadata": {},
     "output_type": "execute_result"
    }
   ],
   "source": [
    "letters = list('abcdefghijk')\n",
    "letters"
   ]
  },
  {
   "cell_type": "code",
   "execution_count": 26,
   "id": "6be30ac9",
   "metadata": {},
   "outputs": [
    {
     "data": {
      "text/plain": [
       "0     a\n",
       "1     b\n",
       "2     c\n",
       "3     d\n",
       "4     e\n",
       "5     f\n",
       "6     g\n",
       "7     h\n",
       "8     i\n",
       "9     j\n",
       "10    k\n",
       "dtype: object"
      ]
     },
     "execution_count": 26,
     "metadata": {},
     "output_type": "execute_result"
    }
   ],
   "source": [
    "letters_series = pd.Series(letters)\n",
    "letters_series"
   ]
  },
  {
   "cell_type": "code",
   "execution_count": 27,
   "id": "c4096c80",
   "metadata": {},
   "outputs": [
    {
     "data": {
      "text/plain": [
       "0      True\n",
       "1     False\n",
       "2     False\n",
       "3     False\n",
       "4      True\n",
       "5     False\n",
       "6     False\n",
       "7     False\n",
       "8      True\n",
       "9     False\n",
       "10    False\n",
       "dtype: bool"
      ]
     },
     "execution_count": 27,
     "metadata": {},
     "output_type": "execute_result"
    }
   ],
   "source": [
    "letters_series.isin(vowels)"
   ]
  },
  {
   "cell_type": "code",
   "execution_count": 28,
   "id": "372722b7",
   "metadata": {},
   "outputs": [
    {
     "data": {
      "text/plain": [
       "0    a\n",
       "4    e\n",
       "8    i\n",
       "dtype: object"
      ]
     },
     "execution_count": 28,
     "metadata": {},
     "output_type": "execute_result"
    }
   ],
   "source": [
    "letters_series[letters_series.isin(vowels)]"
   ]
  },
  {
   "cell_type": "code",
   "execution_count": null,
   "id": "39202472",
   "metadata": {},
   "outputs": [],
   "source": [
    ".apply "
   ]
  },
  {
   "cell_type": "code",
   "execution_count": null,
   "id": "18a68c9c",
   "metadata": {},
   "outputs": [],
   "source": [
    "#Find out if it is EVEN or ODD "
   ]
  },
  {
   "cell_type": "code",
   "execution_count": null,
   "id": "17e13e8e",
   "metadata": {},
   "outputs": [],
   "source": [
    "numbers_series.apply(lambda n: 'even' if n % 2 == 0 else 'odd')"
   ]
  },
  {
   "cell_type": "markdown",
   "id": "f23868dd",
   "metadata": {},
   "source": [
    "##  Binning Data"
   ]
  },
  {
   "cell_type": "code",
   "execution_count": 30,
   "id": "adad58a7",
   "metadata": {},
   "outputs": [
    {
     "data": {
      "text/plain": [
       "0      0\n",
       "1      1\n",
       "2      2\n",
       "3      3\n",
       "4      4\n",
       "5      5\n",
       "6      6\n",
       "7      7\n",
       "8      8\n",
       "9      9\n",
       "10    10\n",
       "11    11\n",
       "12    12\n",
       "13    13\n",
       "14    14\n",
       "dtype: int64"
      ]
     },
     "execution_count": 30,
     "metadata": {},
     "output_type": "execute_result"
    }
   ],
   "source": [
    "s = pd.Series(list(range(15)))\n",
    "s"
   ]
  },
  {
   "cell_type": "code",
   "execution_count": 32,
   "id": "62efc3ea",
   "metadata": {},
   "outputs": [
    {
     "data": {
      "text/plain": [
       "0     (-0.014, 4.667]\n",
       "1     (-0.014, 4.667]\n",
       "2     (-0.014, 4.667]\n",
       "3     (-0.014, 4.667]\n",
       "4     (-0.014, 4.667]\n",
       "5      (4.667, 9.333]\n",
       "6      (4.667, 9.333]\n",
       "7      (4.667, 9.333]\n",
       "8      (4.667, 9.333]\n",
       "9      (4.667, 9.333]\n",
       "10      (9.333, 14.0]\n",
       "11      (9.333, 14.0]\n",
       "12      (9.333, 14.0]\n",
       "13      (9.333, 14.0]\n",
       "14      (9.333, 14.0]\n",
       "dtype: category\n",
       "Categories (3, interval[float64, right]): [(-0.014, 4.667] < (4.667, 9.333] < (9.333, 14.0]]"
      ]
     },
     "execution_count": 32,
     "metadata": {},
     "output_type": "execute_result"
    }
   ],
   "source": [
    "#pd.cut(s, bins=n) You can pass a number and it will cut the bin into 3 equal parts or \n",
    "#pass a list in to specify where you want the boundaries of your list \n",
    "pd.cut(s, 3)"
   ]
  },
  {
   "cell_type": "code",
   "execution_count": 33,
   "id": "9028e47b",
   "metadata": {},
   "outputs": [
    {
     "data": {
      "text/plain": [
       "(-0.014, 4.667]    5\n",
       "(4.667, 9.333]     5\n",
       "(9.333, 14.0]      5\n",
       "dtype: int64"
      ]
     },
     "execution_count": 33,
     "metadata": {},
     "output_type": "execute_result"
    }
   ],
   "source": [
    "# How many values fall into each bin? \n",
    "pd.cut(s, 3).value_counts()"
   ]
  },
  {
   "cell_type": "code",
   "execution_count": null,
   "id": "841d5bec",
   "metadata": {},
   "outputs": [],
   "source": [
    "#to group the data and return aggregate sum \n",
    "s.value_counts(bins=3)"
   ]
  },
  {
   "cell_type": "code",
   "execution_count": null,
   "id": "e2d91bf6",
   "metadata": {},
   "outputs": [],
   "source": [
    ".plot()"
   ]
  },
  {
   "cell_type": "code",
   "execution_count": 35,
   "id": "1675d46b",
   "metadata": {},
   "outputs": [],
   "source": [
    "#number_series.plot()\n",
    "#plt.show()\n",
    "# control F plotting data "
   ]
  },
  {
   "cell_type": "markdown",
   "id": "a6b13bd7",
   "metadata": {},
   "source": [
    "## Summarizing dataframes "
   ]
  },
  {
   "cell_type": "code",
   "execution_count": null,
   "id": "02b5209a",
   "metadata": {},
   "outputs": [],
   "source": [
    ".info()\n",
    ".describe()\n",
    ".dtypes()\n",
    ".shape()\n",
    ".columns()\n",
    ".index()"
   ]
  },
  {
   "cell_type": "markdown",
   "id": "541bd6e7",
   "metadata": {},
   "source": [
    "Subsetting Dataframes "
   ]
  },
  {
   "cell_type": "code",
   "execution_count": null,
   "id": "18d1d1ae",
   "metadata": {},
   "outputs": [],
   "source": [
    "#accessing multiple columns \n",
    "df[['name', 'math']]\n",
    "#accessing individual columns \n",
    "df.math\n",
    "#accessing row subsets \n",
    "df.head\n",
    "df.tail\n",
    "df.sample\n",
    "df.math < 80 ***returns boolean \n",
    "df[df.math < 80] *** this will return the actual rows where it is True \n",
    "df.drop(columns=['english', 'reading'])\n",
    "df.rename(columns={'name': 'stuent'}) ***replaced name with student \n"
   ]
  },
  {
   "cell_type": "markdown",
   "id": "e39dc5b1",
   "metadata": {},
   "source": [
    "Creating New Columns "
   ]
  },
  {
   "cell_type": "code",
   "execution_count": 37,
   "id": "01db03bc",
   "metadata": {},
   "outputs": [],
   "source": [
    "df['passing_math'] = df.math > 70 \n",
    "#Create a new column 'passing math' returns boolean "
   ]
  },
  {
   "cell_type": "code",
   "execution_count": null,
   "id": "cb0cf804",
   "metadata": {},
   "outputs": [],
   "source": [
    "df.sort_values(by='english')\n",
    "#will return dataframe back with english grades lowest to highest\n",
    "df.sort_values(by='english', ascending=False)"
   ]
  },
  {
   "cell_type": "markdown",
   "id": "3c538a78",
   "metadata": {},
   "source": [
    "Chaining Dataframe Methods "
   ]
  },
  {
   "cell_type": "code",
   "execution_count": null,
   "id": "b3815dc3",
   "metadata": {},
   "outputs": [],
   "source": [
    "df[df.english > 90].sort_values(by= 'english').head(1).name"
   ]
  },
  {
   "cell_type": "code",
   "execution_count": null,
   "id": "f7e878b2",
   "metadata": {},
   "outputs": [],
   "source": [
    "bools = df.name.str.startswith('A')\n",
    "bools\n",
    "## will return a list of false and true statements\n",
    "df[bools]\n",
    "##will return the actual rows that fit 'True '"
   ]
  },
  {
   "cell_type": "code",
   "execution_count": null,
   "id": "33685e75",
   "metadata": {},
   "outputs": [],
   "source": [
    "#choose all the rows and a subset of columns, in this case math and reading\n",
    "df.loc[:, 'math': 'reading']"
   ]
  },
  {
   "cell_type": "code",
   "execution_count": null,
   "id": "b72c1adf",
   "metadata": {},
   "outputs": [],
   "source": [
    "#You can also use a boolean Series as a selector \n",
    "df.loc[bools, 'name': 'reading']"
   ]
  },
  {
   "cell_type": "code",
   "execution_count": null,
   "id": "6a61d7c7",
   "metadata": {},
   "outputs": [],
   "source": [
    "df.iloc[:3, 1:3]"
   ]
  },
  {
   "cell_type": "markdown",
   "id": "2eef7998",
   "metadata": {},
   "source": [
    "Aggregating"
   ]
  },
  {
   "cell_type": "code",
   "execution_count": null,
   "id": "ee8ba609",
   "metadata": {},
   "outputs": [],
   "source": [
    "df.reading.agg('min')\n",
    "#returns min reading grade "
   ]
  },
  {
   "cell_type": "code",
   "execution_count": null,
   "id": "b39894cb",
   "metadata": {},
   "outputs": [],
   "source": [
    "df[['english', 'reading', 'math']].agg(['mean', 'min', 'max'])\n",
    "#returns mean, min, max of english, reading and math columns "
   ]
  },
  {
   "cell_type": "code",
   "execution_count": null,
   "id": "1e50e57b",
   "metadata": {},
   "outputs": [],
   "source": [
    "df.groupby('column').math.max()\n",
    "df.groupby('column').math.agg(['min', 'max', 'mean'])"
   ]
  },
  {
   "cell_type": "code",
   "execution_count": null,
   "id": "2726f3f2",
   "metadata": {},
   "outputs": [],
   "source": [
    "np.where(condition, this_where_true, this_where_false)\n",
    "#Create a New column based on existing column, column returns failing if student is under 70, or passing \n",
    "df['passing_math'] = np.where(df.math < 70, 'failing', 'passing')"
   ]
  },
  {
   "cell_type": "markdown",
   "id": "4b335ec7",
   "metadata": {},
   "source": [
    "## Transform"
   ]
  },
  {
   "cell_type": "markdown",
   "id": "178d91c4",
   "metadata": {},
   "source": [
    "The .transform method can be used to produce a series with the same length of the original dataframe where each value represents the aggregation from the subgroup resulting from the .groupby"
   ]
  },
  {
   "cell_type": "markdown",
   "id": "b33b0d84",
   "metadata": {},
   "source": [
    "## Concat"
   ]
  },
  {
   "cell_type": "markdown",
   "id": "07e36af4",
   "metadata": {},
   "source": [
    "This function takes in a list or dictionary of Series or DataFrame objects and joins them along a particular axis, row-wise axis=0 or column-wise axis =1"
   ]
  },
  {
   "cell_type": "code",
   "execution_count": null,
   "id": "53f23981",
   "metadata": {},
   "outputs": [],
   "source": [
    "pd.concat([df1, df2], axis=0)"
   ]
  },
  {
   "cell_type": "code",
   "execution_count": null,
   "id": "3d61d671",
   "metadata": {},
   "outputs": [],
   "source": [
    "#commonly used parameters \n",
    "left_df.merge(right_df, how='inner', on=None, left_on=None, right_on=None, left_index=False, right_index=False, indicator=False)\n"
   ]
  },
  {
   "cell_type": "markdown",
   "id": "4fe575f9",
   "metadata": {},
   "source": [
    "## Reshaping"
   ]
  },
  {
   "cell_type": "code",
   "execution_count": null,
   "id": "b548f104",
   "metadata": {},
   "outputs": [],
   "source": [
    "Common operations that can be used to summarize data by different subgroups "
   ]
  },
  {
   "cell_type": "code",
   "execution_count": null,
   "id": "5ca5ecb7",
   "metadata": {},
   "outputs": [],
   "source": [
    "pd.crosstab(df.passing_math, df.classroom)\n",
    "#classroom is moved from a column to a row header and separated by a and b\n",
    "#passing_math is converted into two rows 'failing' and 'passing'\n",
    "#if you want to see subtotals you set margins=True"
   ]
  },
  {
   "cell_type": "code",
   "execution_count": null,
   "id": "719d4e4b",
   "metadata": {},
   "outputs": [],
   "source": [
    ".pivot_table \n",
    "df.pivot_table(index= which_values_you_want_in_rows, columns = 'which_values_you_want_columns', values = 'values_we_are_aggregating')"
   ]
  },
  {
   "cell_type": "code",
   "execution_count": null,
   "id": "df640006",
   "metadata": {},
   "outputs": [],
   "source": []
  },
  {
   "cell_type": "code",
   "execution_count": null,
   "id": "b0ef065d",
   "metadata": {},
   "outputs": [],
   "source": []
  },
  {
   "cell_type": "code",
   "execution_count": null,
   "id": "22e25bf1",
   "metadata": {},
   "outputs": [],
   "source": []
  }
 ],
 "metadata": {
  "kernelspec": {
   "display_name": "Python 3 (ipykernel)",
   "language": "python",
   "name": "python3"
  },
  "language_info": {
   "codemirror_mode": {
    "name": "ipython",
    "version": 3
   },
   "file_extension": ".py",
   "mimetype": "text/x-python",
   "name": "python",
   "nbconvert_exporter": "python",
   "pygments_lexer": "ipython3",
   "version": "3.9.7"
  }
 },
 "nbformat": 4,
 "nbformat_minor": 5
}
